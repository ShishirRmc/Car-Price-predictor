{
  "cells": [
    {
      "cell_type": "markdown",
      "metadata": {
        "id": "Jl2w05-J9bDu"
      },
      "source": [
        "# Car Price Prediction Report\n",
        "\n",
        "This report summarizes the process and findings of building a model to predict car selling prices based on a given dataset.\n",
        "\n"
      ]
    },
    {
      "cell_type": "code",
      "execution_count": null,
      "metadata": {
        "colab": {
          "base_uri": "https://localhost:8080/",
          "height": 1000
        },
        "collapsed": true,
        "id": "yN5n10dautCG",
        "outputId": "949cfa8e-23ea-4b1c-b8ab-c396c8dfe117"
      },
      "outputs": [],
      "source": [
        "!pip install -U langchain-google-genai"
      ]
    },
    {
      "cell_type": "code",
      "execution_count": 2,
      "metadata": {
        "id": "ouXrD2fGptlK"
      },
      "outputs": [],
      "source": [
        "import pandas as pd\n",
        "import numpy as np\n",
        "import sklearn"
      ]
    },
    {
      "cell_type": "markdown",
      "metadata": {
        "id": "rMfUI8ne92Ln"
      },
      "source": [
        "## 1. Data Loading and Exploration\n",
        "\n",
        "- The dataset was loaded using pandas from a CSV file named `car.csv`.\n",
        "- Initial exploration was performed using `df.head()`, `df.info()`, `df.isnull().sum()`, and `df.describe()`."
      ]
    },
    {
      "cell_type": "code",
      "execution_count": 3,
      "metadata": {
        "id": "e0ZVkrvwrBKu"
      },
      "outputs": [],
      "source": [
        "df = pd.read_csv('car.csv')"
      ]
    },
    {
      "cell_type": "markdown",
      "metadata": {
        "id": "I0lbg3huz20C"
      },
      "source": [
        "## **setup my LLM**"
      ]
    },
    {
      "cell_type": "code",
      "execution_count": 41,
      "metadata": {
        "collapsed": true,
        "id": "YeqdvK6TsHyJ"
      },
      "outputs": [],
      "source": [
        "from langchain.schema import SystemMessage, HumanMessage, AIMessage\n",
        "from langchain.chat_models import init_chat_model\n",
        "import os\n",
        "from dotenv import load_dotenv\n",
        "\n",
        "#importing gemini\n",
        "load_dotenv()\n",
        "api_key = os.environ.get(\"gemini_api_key\")\n",
        "\n",
        "model = init_chat_model(\n",
        "    \"google_genai:gemini-2.0-flash\",\n",
        "    temperature=0,\n",
        "    api_key=api_key\n",
        ")\n",
        "\n",
        "system_prompt = \"\"\"\n",
        "You are a Machine learning Engineer and you're currently assistanting me on the task.\n",
        "YOU'll do exactly what human message says.\"\"\"\n",
        "system_prompt = SystemMessage(content=system_prompt)\n",
        "\n",
        "conversation = [system_prompt]\n",
        "\n",
        "def ask_llm(user_input: str):\n",
        "    global conversation\n",
        "    conversation.append(HumanMessage(content=user_input))\n",
        "    response = model(conversation)\n",
        "\n",
        "    conversation.append(response)\n",
        "\n",
        "    return response.content\n",
        "\n",
        "# human message in each cells\n"
      ]
    },
    {
      "cell_type": "markdown",
      "metadata": {
        "id": "FWUjhvvG-Rz3"
      },
      "source": [
        "\n",
        "## 2. Understanding the Dataset with **LLM**\n",
        "\n",
        "To get a better understanding of the dataset columns and their potential relevance for car price prediction, we utilized a Large Language Model (LLM).\n",
        "\n",
        "- A human message containing the column names and a request to explain the dataset was passed to the LLM.\n",
        "- The LLM's response provided insights into the meaning of each column and how they might influence the car selling price.\n",
        "\n",
        "This process helped in identifying important features and potential preprocessing steps before model building."
      ]
    },
    {
      "cell_type": "code",
      "execution_count": 5,
      "metadata": {
        "colab": {
          "base_uri": "https://localhost:8080/"
        },
        "id": "lnoVLsFyxhok",
        "outputId": "a399498d-ccb9-4d7f-d700-8ad7f400913f"
      },
      "outputs": [
        {
          "name": "stderr",
          "output_type": "stream",
          "text": [
            "C:\\Users\\rmcsh\\AppData\\Local\\Temp\\ipykernel_15468\\2698796064.py:26: LangChainDeprecationWarning: The method `BaseChatModel.__call__` was deprecated in langchain-core 0.1.7 and will be removed in 1.0. Use :meth:`~invoke` instead.\n",
            "  response = model(conversation)\n"
          ]
        },
        {
          "name": "stdout",
          "output_type": "stream",
          "text": [
            "Okay, I will explain each column in the car dataset, sorted alphabetically, and suggest ways to clean up potential messy parts.\n",
            "\n",
            "**Column Explanations and Data Cleaning Strategies**\n",
            "\n",
            "Here's a breakdown of each column:\n",
            "\n",
            "1.  **`engine`**:\n",
            "    *   **Meaning:** Engine displacement of the car, likely in cubic centimeters (cc).\n",
            "    *   **Data Type:** Numerical (float).\n",
            "    *   **Potential Issues:**\n",
            "        *   **Missing Values:**  Handle with imputation (mean, median, or model-based).\n",
            "        *   **Outliers:** Check for unusually large or small engine sizes that might be errors.\n",
            "        *   **Units:** Ensure all values are in the same unit (cc).\n",
            "    *   **Cleaning:**\n",
            "        *   `df['engine'].fillna(df['engine'].median(), inplace=True)` #Impute missing values with median\n",
            "        *   `Q1 = df['engine'].quantile(0.25)` #Remove outliers\n",
            "        *   `Q3 = df['engine'].quantile(0.75)`\n",
            "        *   `IQR = Q3 - Q1`\n",
            "        *   `lower_bound = Q1 - 1.5 * IQR`\n",
            "        *   `upper_bound = Q3 + 1.5 * IQR`\n",
            "        *   `df = df[(df['engine'] >= lower_bound) & (df['engine'] <= upper_bound)]`\n",
            "\n",
            "2.  **`fuel`**:\n",
            "    *   **Meaning:** Type of fuel the car uses (e.g., Petrol, Diesel, CNG, LPG, Electric).\n",
            "    *   **Data Type:** Categorical (string).\n",
            "    *   **Potential Issues:**\n",
            "        *   **Inconsistent Capitalization:** \"petrol\" vs. \"Petrol\".\n",
            "        *   **Typos:** \"Desel\" instead of \"Diesel\".\n",
            "        *   **Mixed Categories:**  Slightly different fuel types grouped separately.\n",
            "    *   **Cleaning:**\n",
            "        *   `df['fuel'] = df['fuel'].str.strip()` #Remove leading/trailing spaces\n",
            "        *   `df['fuel'] = df['fuel'].str.lower()` #Standardize to lowercase\n",
            "        *   `df['fuel'] = df['fuel'].replace({'petrol': 'Petrol', 'diesel': 'Diesel'})` #Correct common typos and inconsistencies\n",
            "\n",
            "3.  **`km_driven`**:\n",
            "    *   **Meaning:** The total kilometers the car has been driven.\n",
            "    *   **Data Type:** Numerical (integer).\n",
            "    *   **Potential Issues:**\n",
            "        *   **Outliers:** Extremely high mileage might indicate data entry errors or cars used for commercial purposes.\n",
            "        *   **Zero Values:**  Check if zero values are valid or represent missing data.\n",
            "    *   **Cleaning:**\n",
            "        *   `Q1 = df['km_driven'].quantile(0.25)` #Remove outliers\n",
            "        *   `Q3 = df['km_driven'].quantile(0.75)`\n",
            "        *   `IQR = Q3 - Q1`\n",
            "        *   `lower_bound = Q1 - 1.5 * IQR`\n",
            "        *   `upper_bound = Q3 + 1.5 * IQR`\n",
            "        *   `df = df[(df['km_driven'] >= lower_bound) & (df['km_driven'] <= upper_bound)]`\n",
            "\n",
            "4.  **`max_power`**:\n",
            "    *   **Meaning:** Maximum power output of the car's engine, likely in horsepower (bhp).\n",
            "    *   **Data Type:** Numerical (float).\n",
            "    *   **Potential Issues:**\n",
            "        *   **Missing Values:** Handle with imputation.\n",
            "        *   **Outliers:** Check for unusually high or low power values.\n",
            "        *   **Units:** Ensure consistency in units (e.g., bhp vs. PS).\n",
            "        *   **String Values:** Sometimes might contain \"bhp\" at the end.\n",
            "    *   **Cleaning:**\n",
            "        *   `df['max_power'] = df['max_power'].str.replace('bhp', '').str.strip()` #Remove \"bhp\" and spaces\n",
            "        *   `df['max_power'] = pd.to_numeric(df['max_power'], errors='coerce')` #Convert to numeric, setting invalid values to NaN\n",
            "        *   `df['max_power'].fillna(df['max_power'].median(), inplace=True)` #Impute missing values with median\n",
            "        *   `Q1 = df['max_power'].quantile(0.25)` #Remove outliers\n",
            "        *   `Q3 = df['max_power'].quantile(0.75)`\n",
            "        *   `IQR = Q3 - Q1`\n",
            "        *   `lower_bound = Q1 - 1.5 * IQR`\n",
            "        *   `upper_bound = Q3 + 1.5 * IQR`\n",
            "        *   `df = df[(df['max_power'] >= lower_bound) & (df['max_power'] <= upper_bound)]`\n",
            "\n",
            "5.  **`mileage(km/ltr/kg)`**:\n",
            "    *   **Meaning:** Fuel efficiency of the car, in kilometers per liter (km/L) for petrol/diesel cars and kilometers per kilogram (km/kg) for CNG/LPG cars.\n",
            "    *   **Data Type:** Numerical (float).\n",
            "    *   **Potential Issues:**\n",
            "        *   **Missing Values:** Handle with imputation.\n",
            "        *   **Outliers:**  Unusually high or low mileage values.\n",
            "        *   **Inconsistent Units:**  Ensure all values are in km/L or km/kg, depending on the fuel type.\n",
            "    *   **Cleaning:**\n",
            "        *   `df['mileage(km/ltr/kg)'].fillna(df['mileage(km/ltr/kg)'].median(), inplace=True)` #Impute missing values with median\n",
            "        *   `Q1 = df['mileage(km/ltr/kg)'].quantile(0.25)` #Remove outliers\n",
            "        *   `Q3 = df['mileage(km/ltr/kg)'].quantile(0.75)`\n",
            "        *   `IQR = Q3 - Q1`\n",
            "        *   `lower_bound = Q1 - 1.5 * IQR`\n",
            "        *   `upper_bound = Q3 + 1.5 * IQR`\n",
            "        *   `df = df[(df['mileage(km/ltr/kg)'] >= lower_bound) & (df['mileage(km/ltr/kg)'] <= upper_bound)]`\n",
            "\n",
            "6.  **`name`**:\n",
            "    *   **Meaning:** Name of the car model.\n",
            "    *   **Data Type:** Categorical (string).\n",
            "    *   **Potential Issues:**\n",
            "        *   **Inconsistency:** Different naming conventions for the same car.\n",
            "        *   **Too Specific:**  The name might include trim levels or other details that are not necessary.\n",
            "    *   **Cleaning:**\n",
            "        *   `df['name'] = df['name'].str.split(' ').str.get(0)` #Extract the brand name\n",
            "        *   `df['name'] = df['name'].str.lower()` #Standardize to lowercase\n",
            "\n",
            "7.  **`owner`**:\n",
            "    *   **Meaning:** Number of previous owners of the car.\n",
            "    *   **Data Type:** Categorical (string).\n",
            "    *   **Potential Issues:**\n",
            "        *   **Inconsistent Formatting:** \"First Owner\" vs. \"1st Owner\".\n",
            "        *   **Categories Too Granular:**  Consider grouping \"Fourth & Above Owner\" into a single category.\n",
            "    *   **Cleaning:**\n",
            "        *   `df['owner'] = df['owner'].str.replace('First', '1st')` #Standardize \"First\" to \"1st\"\n",
            "        *   `df['owner'] = df['owner'].str.replace('Second', '2nd')` #Standardize \"Second\" to \"2nd\"\n",
            "        *   `df['owner'] = df['owner'].str.replace('Third', '3rd')` #Standardize \"Third\" to \"3rd\"\n",
            "        *   `df['owner'] = df['owner'].replace({'Fourth & Above Owner': '4th & Above Owner'})` #Consolidate categories\n",
            "\n",
            "8.  **`seats`**:\n",
            "    *   **Meaning:** Number of seats in the car.\n",
            "    *   **Data Type:** Numerical (float).\n",
            "    *   **Potential Issues:**\n",
            "        *   **Missing Values:** Handle with imputation.\n",
            "        *   **Invalid Values:**  Cars with an unrealistic number of seats.\n",
            "    *   **Cleaning:**\n",
            "        *   `df['seats'].fillna(df['seats'].mode()[0], inplace=True)` #Impute missing values with mode\n",
            "        *   `df = df[(df['seats'] >= 2) & (df['seats'] <= 10)]` #Remove outliers\n",
            "\n",
            "9.  **`selling_price`**:\n",
            "    *   **Meaning:** The price at which the car is being sold.  This is likely your target variable.\n",
            "    *   **Data Type:** Numerical (integer).\n",
            "    *   **Potential Issues:**\n",
            "        *   **Outliers:**  Extremely high or low prices.\n",
            "    *   **Cleaning:**\n",
            "        *   `Q1 = df['selling_price'].quantile(0.25)` #Remove outliers\n",
            "        *   `Q3 = df['selling_price'].quantile(0.75)`\n",
            "        *   `IQR = Q3 - Q1`\n",
            "        *   `lower_bound = Q1 - 1.5 * IQR`\n",
            "        *   `upper_bound = Q3 + 1.5 * IQR`\n",
            "        *   `df = df[(df['selling_price'] >= lower_bound) & (df['selling_price'] <= upper_bound)]`\n",
            "\n",
            "10. **`seller_type`**:\n",
            "    *   **Meaning:**  Indicates whether the seller is an individual, a dealer, or another type.\n",
            "    *   **Data Type:** Categorical (string).\n",
            "    *   **Potential Issues:**\n",
            "        *   **Inconsistent Categories:**  Variations in naming seller types.\n",
            "    *   **Cleaning:**\n",
            "        *   `df['seller_type'] = df['seller_type'].str.strip()` #Remove leading/trailing spaces\n",
            "        *   `df['seller_type'] = df['seller_type'].str.lower()` #Standardize to lowercase\n",
            "        *   `df['seller_type'] = df['seller_type'].replace({'individual': 'Individual', 'dealer': 'Dealer'})` #Correct common typos and inconsistencies\n",
            "\n",
            "11. **`transmission`**:\n",
            "    *   **Meaning:** Type of transmission (Manual or Automatic).\n",
            "    *   **Data Type:** Categorical (string).\n",
            "    *   **Potential Issues:**\n",
            "        *   **Inconsistent Capitalization:** \"manual\" vs. \"Manual\".\n",
            "    *   **Cleaning:**\n",
            "        *   `df['transmission'] = df['transmission'].str.strip()` #Remove leading/trailing spaces\n",
            "        *   `df['transmission'] = df['transmission'].str.lower()` #Standardize to lowercase\n",
            "        *   `df['transmission'] = df['transmission'].replace({'manual': 'Manual', 'automatic': 'Automatic'})` #Correct common typos and inconsistencies\n",
            "\n",
            "12. **`year`**:\n",
            "    *   **Meaning:** Manufacturing year of the car.\n",
            "    *   **Data Type:** Numerical (integer).\n",
            "    *   **Potential Issues:**\n",
            "        *   **Invalid Years:** Years that are in the future or too far in the past.\n",
            "    *   **Cleaning:**\n",
            "        *   `current_year = datetime.datetime.now().year` #Get current year\n",
            "        *   `df = df[(df['year'] >= 1900) & (df['year'] <= current_year)]` #Remove outliers\n",
            "\n",
            "**Important Considerations:**\n",
            "\n",
            "*   **Data Understanding:** Before cleaning, always explore the data to understand the distribution of values and potential issues.  Use histograms, box plots, value counts, etc.\n",
            "*   **Domain Knowledge:**  Use your knowledge of cars to identify unrealistic or incorrect values.\n",
            "*   **Impact on Analysis:**  Be aware that cleaning steps can affect your analysis.  Document your cleaning process carefully.\n",
            "*   **Iterative Process:** Data cleaning is often an iterative process. You may need to revisit your cleaning steps as you explore the data further.\n",
            "\n",
            "**Example Code (using pandas):**\n",
            "\n",
            "```python\n",
            "import pandas as pd\n",
            "import numpy as np\n",
            "import datetime\n",
            "\n",
            "# Load your data\n",
            "df = pd.read_csv('your_data.csv')\n",
            "\n",
            "# 1. Handle 'fuel' column\n",
            "df['fuel'] = df['fuel'].str.strip()\n",
            "df['fuel'] = df['fuel'].str.lower()\n",
            "df['fuel'] = df['fuel'].replace({'petrol': 'Petrol', 'diesel': 'Diesel'})\n",
            "\n",
            "# 2. Handle 'max_power' column\n",
            "df['max_power'] = df['max_power'].str.replace('bhp', '').str.strip()\n",
            "df['max_power'] = pd.to_numeric(df['max_power'], errors='coerce')\n",
            "df['max_power'].fillna(df['max_power'].median(), inplace=True)\n",
            "\n",
            "# 3. Handle 'name' column\n",
            "df['name'] = df['name'].str.split(' ').str.get(0)\n",
            "df['name'] = df['name'].str.lower()\n",
            "\n",
            "# 4. Handle 'owner' column\n",
            "df['owner'] = df['owner'].str.replace('First', '1st')\n",
            "df['owner'] = df['owner'].str.replace('Second', '2nd')\n",
            "df['owner'] = df['owner'].str.replace('Third', '3rd')\n",
            "df['owner'] = df['owner'].replace({'Fourth & Above Owner': '4th & Above Owner'})\n",
            "\n",
            "# 5. Handle 'seats' column\n",
            "df['seats'].fillna(df['seats'].mode()[0], inplace=True)\n",
            "df = df[(df['seats'] >= 2) & (df['seats'] <= 10)]\n",
            "\n",
            "# 6. Handle 'seller_type' column\n",
            "df['seller_type'] = df['seller_type'].str.strip()\n",
            "df['seller_type'] = df['seller_type'].str.lower()\n",
            "df['seller_type'] = df['seller_type'].replace({'individual': 'Individual', 'dealer': 'Dealer'})\n",
            "\n",
            "# 7. Handle 'transmission' column\n",
            "df['transmission'] = df['transmission'].str.strip()\n",
            "df['transmission'] = df['transmission'].str.lower()\n",
            "df['transmission'] = df['transmission'].replace({'manual': 'Manual', 'automatic': 'Automatic'})\n",
            "\n",
            "# 8. Handle 'year' column\n",
            "current_year = datetime.datetime.now().year\n",
            "df = df[(df['year'] >= 1900) & (df['year'] <= current_year)]\n",
            "\n",
            "# 9. Handle 'engine' column\n",
            "df['engine'].fillna(df['engine'].median(), inplace=True)\n",
            "\n",
            "# 10. Handle 'mileage(km/ltr/kg)' column\n",
            "df['mileage(km/ltr/kg)'].fillna(df['mileage(km/ltr/kg)'].median(), inplace=True)\n",
            "\n",
            "# Outlier removal for numerical columns\n",
            "numerical_cols = ['km_driven', 'selling_price', 'engine', 'max_power', 'mileage(km/ltr/kg)']\n",
            "\n",
            "for col in numerical_cols:\n",
            "    Q1 = df[col].quantile(0.25)\n",
            "    Q3 = df[col].quantile(0.75)\n",
            "    IQR = Q3 - Q1\n",
            "    lower_bound = Q1 - 1.5 * IQR\n",
            "    upper_bound = Q3 + 1.5 * IQR\n",
            "    df = df[(df[col] >= lower_bound) & (df[col] <= upper_bound)]\n",
            "\n",
            "# Display the cleaned data\n",
            "print(df.head())\n",
            "print(df.info())\n",
            "```\n",
            "\n",
            "Remember to adapt this code to your specific dataset and analysis goals. Good luck!\n"
          ]
        }
      ],
      "source": [
        "human_prompt = f\"\"\" {df} Explain what each column in this car dataset likely means based on its name and data type in sorted format and tell me the best ways to clean up messy parts\n",
        "\"\"\"\n",
        "print(ask_llm(human_prompt))"
      ]
    },
    {
      "cell_type": "code",
      "execution_count": 6,
      "metadata": {
        "colab": {
          "base_uri": "https://localhost:8080/",
          "height": 223
        },
        "id": "P_m_Z9YRrEyQ",
        "outputId": "52a75a68-19dc-4bfa-cc0d-ab104947865d"
      },
      "outputs": [
        {
          "data": {
            "text/html": [
              "<div>\n",
              "<style scoped>\n",
              "    .dataframe tbody tr th:only-of-type {\n",
              "        vertical-align: middle;\n",
              "    }\n",
              "\n",
              "    .dataframe tbody tr th {\n",
              "        vertical-align: top;\n",
              "    }\n",
              "\n",
              "    .dataframe thead th {\n",
              "        text-align: right;\n",
              "    }\n",
              "</style>\n",
              "<table border=\"1\" class=\"dataframe\">\n",
              "  <thead>\n",
              "    <tr style=\"text-align: right;\">\n",
              "      <th></th>\n",
              "      <th>name</th>\n",
              "      <th>year</th>\n",
              "      <th>selling_price</th>\n",
              "      <th>km_driven</th>\n",
              "      <th>fuel</th>\n",
              "      <th>seller_type</th>\n",
              "      <th>transmission</th>\n",
              "      <th>owner</th>\n",
              "      <th>mileage(km/ltr/kg)</th>\n",
              "      <th>engine</th>\n",
              "      <th>max_power</th>\n",
              "      <th>seats</th>\n",
              "    </tr>\n",
              "  </thead>\n",
              "  <tbody>\n",
              "    <tr>\n",
              "      <th>0</th>\n",
              "      <td>Maruti Swift Dzire VDI</td>\n",
              "      <td>2014</td>\n",
              "      <td>450000</td>\n",
              "      <td>145500</td>\n",
              "      <td>Diesel</td>\n",
              "      <td>Individual</td>\n",
              "      <td>Manual</td>\n",
              "      <td>First Owner</td>\n",
              "      <td>23.40</td>\n",
              "      <td>1248.0</td>\n",
              "      <td>74</td>\n",
              "      <td>5.0</td>\n",
              "    </tr>\n",
              "    <tr>\n",
              "      <th>1</th>\n",
              "      <td>Skoda Rapid 1.5 TDI Ambition</td>\n",
              "      <td>2014</td>\n",
              "      <td>370000</td>\n",
              "      <td>120000</td>\n",
              "      <td>Diesel</td>\n",
              "      <td>Individual</td>\n",
              "      <td>Manual</td>\n",
              "      <td>Second Owner</td>\n",
              "      <td>21.14</td>\n",
              "      <td>1498.0</td>\n",
              "      <td>103.52</td>\n",
              "      <td>5.0</td>\n",
              "    </tr>\n",
              "    <tr>\n",
              "      <th>2</th>\n",
              "      <td>Honda City 2017-2020 EXi</td>\n",
              "      <td>2006</td>\n",
              "      <td>158000</td>\n",
              "      <td>140000</td>\n",
              "      <td>Petrol</td>\n",
              "      <td>Individual</td>\n",
              "      <td>Manual</td>\n",
              "      <td>Third Owner</td>\n",
              "      <td>17.70</td>\n",
              "      <td>1497.0</td>\n",
              "      <td>78</td>\n",
              "      <td>5.0</td>\n",
              "    </tr>\n",
              "    <tr>\n",
              "      <th>3</th>\n",
              "      <td>Hyundai i20 Sportz Diesel</td>\n",
              "      <td>2010</td>\n",
              "      <td>225000</td>\n",
              "      <td>127000</td>\n",
              "      <td>Diesel</td>\n",
              "      <td>Individual</td>\n",
              "      <td>Manual</td>\n",
              "      <td>First Owner</td>\n",
              "      <td>23.00</td>\n",
              "      <td>1396.0</td>\n",
              "      <td>90</td>\n",
              "      <td>5.0</td>\n",
              "    </tr>\n",
              "    <tr>\n",
              "      <th>4</th>\n",
              "      <td>Maruti Swift VXI BSIII</td>\n",
              "      <td>2007</td>\n",
              "      <td>130000</td>\n",
              "      <td>120000</td>\n",
              "      <td>Petrol</td>\n",
              "      <td>Individual</td>\n",
              "      <td>Manual</td>\n",
              "      <td>First Owner</td>\n",
              "      <td>16.10</td>\n",
              "      <td>1298.0</td>\n",
              "      <td>88.2</td>\n",
              "      <td>5.0</td>\n",
              "    </tr>\n",
              "  </tbody>\n",
              "</table>\n",
              "</div>"
            ],
            "text/plain": [
              "                           name  year  selling_price  km_driven    fuel  \\\n",
              "0        Maruti Swift Dzire VDI  2014         450000     145500  Diesel   \n",
              "1  Skoda Rapid 1.5 TDI Ambition  2014         370000     120000  Diesel   \n",
              "2      Honda City 2017-2020 EXi  2006         158000     140000  Petrol   \n",
              "3     Hyundai i20 Sportz Diesel  2010         225000     127000  Diesel   \n",
              "4        Maruti Swift VXI BSIII  2007         130000     120000  Petrol   \n",
              "\n",
              "  seller_type transmission         owner  mileage(km/ltr/kg)  engine  \\\n",
              "0  Individual       Manual   First Owner               23.40  1248.0   \n",
              "1  Individual       Manual  Second Owner               21.14  1498.0   \n",
              "2  Individual       Manual   Third Owner               17.70  1497.0   \n",
              "3  Individual       Manual   First Owner               23.00  1396.0   \n",
              "4  Individual       Manual   First Owner               16.10  1298.0   \n",
              "\n",
              "  max_power  seats  \n",
              "0        74    5.0  \n",
              "1    103.52    5.0  \n",
              "2        78    5.0  \n",
              "3        90    5.0  \n",
              "4      88.2    5.0  "
            ]
          },
          "execution_count": 6,
          "metadata": {},
          "output_type": "execute_result"
        }
      ],
      "source": [
        "df.head()"
      ]
    },
    {
      "cell_type": "code",
      "execution_count": 7,
      "metadata": {
        "colab": {
          "base_uri": "https://localhost:8080/"
        },
        "id": "UQCJ9GESrHk_",
        "outputId": "c8565118-fcd4-427b-b9f6-249a67760686"
      },
      "outputs": [
        {
          "name": "stdout",
          "output_type": "stream",
          "text": [
            "<class 'pandas.core.frame.DataFrame'>\n",
            "RangeIndex: 8128 entries, 0 to 8127\n",
            "Data columns (total 12 columns):\n",
            " #   Column              Non-Null Count  Dtype  \n",
            "---  ------              --------------  -----  \n",
            " 0   name                8128 non-null   object \n",
            " 1   year                8128 non-null   int64  \n",
            " 2   selling_price       8128 non-null   int64  \n",
            " 3   km_driven           8128 non-null   int64  \n",
            " 4   fuel                8128 non-null   object \n",
            " 5   seller_type         8128 non-null   object \n",
            " 6   transmission        8128 non-null   object \n",
            " 7   owner               8128 non-null   object \n",
            " 8   mileage(km/ltr/kg)  7907 non-null   float64\n",
            " 9   engine              7907 non-null   float64\n",
            " 10  max_power           7913 non-null   object \n",
            " 11  seats               7907 non-null   float64\n",
            "dtypes: float64(3), int64(3), object(6)\n",
            "memory usage: 762.1+ KB\n"
          ]
        }
      ],
      "source": [
        "df.info()"
      ]
    },
    {
      "cell_type": "code",
      "execution_count": 8,
      "metadata": {
        "colab": {
          "base_uri": "https://localhost:8080/",
          "height": 460
        },
        "id": "cQ4nKjdYrWZZ",
        "outputId": "2434dca5-9ed5-4d4f-e9a4-e855c79f2369"
      },
      "outputs": [
        {
          "data": {
            "text/plain": [
              "name                    0\n",
              "year                    0\n",
              "selling_price           0\n",
              "km_driven               0\n",
              "fuel                    0\n",
              "seller_type             0\n",
              "transmission            0\n",
              "owner                   0\n",
              "mileage(km/ltr/kg)    221\n",
              "engine                221\n",
              "max_power             215\n",
              "seats                 221\n",
              "dtype: int64"
            ]
          },
          "execution_count": 8,
          "metadata": {},
          "output_type": "execute_result"
        }
      ],
      "source": [
        "df.isnull().sum()"
      ]
    },
    {
      "cell_type": "code",
      "execution_count": 9,
      "metadata": {
        "colab": {
          "base_uri": "https://localhost:8080/",
          "height": 300
        },
        "id": "iP_Jiu0RrbOy",
        "outputId": "d274b2aa-1b9c-4722-8fd8-56b2d3bcee0d"
      },
      "outputs": [
        {
          "data": {
            "text/html": [
              "<div>\n",
              "<style scoped>\n",
              "    .dataframe tbody tr th:only-of-type {\n",
              "        vertical-align: middle;\n",
              "    }\n",
              "\n",
              "    .dataframe tbody tr th {\n",
              "        vertical-align: top;\n",
              "    }\n",
              "\n",
              "    .dataframe thead th {\n",
              "        text-align: right;\n",
              "    }\n",
              "</style>\n",
              "<table border=\"1\" class=\"dataframe\">\n",
              "  <thead>\n",
              "    <tr style=\"text-align: right;\">\n",
              "      <th></th>\n",
              "      <th>year</th>\n",
              "      <th>selling_price</th>\n",
              "      <th>km_driven</th>\n",
              "      <th>mileage(km/ltr/kg)</th>\n",
              "      <th>engine</th>\n",
              "      <th>seats</th>\n",
              "    </tr>\n",
              "  </thead>\n",
              "  <tbody>\n",
              "    <tr>\n",
              "      <th>count</th>\n",
              "      <td>8128.000000</td>\n",
              "      <td>8.128000e+03</td>\n",
              "      <td>8.128000e+03</td>\n",
              "      <td>7907.000000</td>\n",
              "      <td>7907.000000</td>\n",
              "      <td>7907.000000</td>\n",
              "    </tr>\n",
              "    <tr>\n",
              "      <th>mean</th>\n",
              "      <td>2013.804011</td>\n",
              "      <td>6.382718e+05</td>\n",
              "      <td>6.981951e+04</td>\n",
              "      <td>19.418783</td>\n",
              "      <td>1458.625016</td>\n",
              "      <td>5.416719</td>\n",
              "    </tr>\n",
              "    <tr>\n",
              "      <th>std</th>\n",
              "      <td>4.044249</td>\n",
              "      <td>8.062534e+05</td>\n",
              "      <td>5.655055e+04</td>\n",
              "      <td>4.037145</td>\n",
              "      <td>503.916303</td>\n",
              "      <td>0.959588</td>\n",
              "    </tr>\n",
              "    <tr>\n",
              "      <th>min</th>\n",
              "      <td>1983.000000</td>\n",
              "      <td>2.999900e+04</td>\n",
              "      <td>1.000000e+00</td>\n",
              "      <td>0.000000</td>\n",
              "      <td>624.000000</td>\n",
              "      <td>2.000000</td>\n",
              "    </tr>\n",
              "    <tr>\n",
              "      <th>25%</th>\n",
              "      <td>2011.000000</td>\n",
              "      <td>2.549990e+05</td>\n",
              "      <td>3.500000e+04</td>\n",
              "      <td>16.780000</td>\n",
              "      <td>1197.000000</td>\n",
              "      <td>5.000000</td>\n",
              "    </tr>\n",
              "    <tr>\n",
              "      <th>50%</th>\n",
              "      <td>2015.000000</td>\n",
              "      <td>4.500000e+05</td>\n",
              "      <td>6.000000e+04</td>\n",
              "      <td>19.300000</td>\n",
              "      <td>1248.000000</td>\n",
              "      <td>5.000000</td>\n",
              "    </tr>\n",
              "    <tr>\n",
              "      <th>75%</th>\n",
              "      <td>2017.000000</td>\n",
              "      <td>6.750000e+05</td>\n",
              "      <td>9.800000e+04</td>\n",
              "      <td>22.320000</td>\n",
              "      <td>1582.000000</td>\n",
              "      <td>5.000000</td>\n",
              "    </tr>\n",
              "    <tr>\n",
              "      <th>max</th>\n",
              "      <td>2020.000000</td>\n",
              "      <td>1.000000e+07</td>\n",
              "      <td>2.360457e+06</td>\n",
              "      <td>42.000000</td>\n",
              "      <td>3604.000000</td>\n",
              "      <td>14.000000</td>\n",
              "    </tr>\n",
              "  </tbody>\n",
              "</table>\n",
              "</div>"
            ],
            "text/plain": [
              "              year  selling_price     km_driven  mileage(km/ltr/kg)  \\\n",
              "count  8128.000000   8.128000e+03  8.128000e+03         7907.000000   \n",
              "mean   2013.804011   6.382718e+05  6.981951e+04           19.418783   \n",
              "std       4.044249   8.062534e+05  5.655055e+04            4.037145   \n",
              "min    1983.000000   2.999900e+04  1.000000e+00            0.000000   \n",
              "25%    2011.000000   2.549990e+05  3.500000e+04           16.780000   \n",
              "50%    2015.000000   4.500000e+05  6.000000e+04           19.300000   \n",
              "75%    2017.000000   6.750000e+05  9.800000e+04           22.320000   \n",
              "max    2020.000000   1.000000e+07  2.360457e+06           42.000000   \n",
              "\n",
              "            engine        seats  \n",
              "count  7907.000000  7907.000000  \n",
              "mean   1458.625016     5.416719  \n",
              "std     503.916303     0.959588  \n",
              "min     624.000000     2.000000  \n",
              "25%    1197.000000     5.000000  \n",
              "50%    1248.000000     5.000000  \n",
              "75%    1582.000000     5.000000  \n",
              "max    3604.000000    14.000000  "
            ]
          },
          "execution_count": 9,
          "metadata": {},
          "output_type": "execute_result"
        }
      ],
      "source": [
        "df.describe()"
      ]
    },
    {
      "cell_type": "code",
      "execution_count": 10,
      "metadata": {
        "colab": {
          "base_uri": "https://localhost:8080/",
          "height": 446
        },
        "id": "2cxIWBNO08tA",
        "outputId": "0fe04c5b-a027-419b-ad7f-d3d7fca64058"
      },
      "outputs": [
        {
          "data": {
            "text/html": [
              "<div>\n",
              "<style scoped>\n",
              "    .dataframe tbody tr th:only-of-type {\n",
              "        vertical-align: middle;\n",
              "    }\n",
              "\n",
              "    .dataframe tbody tr th {\n",
              "        vertical-align: top;\n",
              "    }\n",
              "\n",
              "    .dataframe thead th {\n",
              "        text-align: right;\n",
              "    }\n",
              "</style>\n",
              "<table border=\"1\" class=\"dataframe\">\n",
              "  <thead>\n",
              "    <tr style=\"text-align: right;\">\n",
              "      <th></th>\n",
              "      <th>name</th>\n",
              "      <th>year</th>\n",
              "      <th>selling_price</th>\n",
              "      <th>km_driven</th>\n",
              "      <th>fuel</th>\n",
              "      <th>seller_type</th>\n",
              "      <th>transmission</th>\n",
              "      <th>owner</th>\n",
              "      <th>mileage(km/ltr/kg)</th>\n",
              "      <th>engine</th>\n",
              "      <th>max_power</th>\n",
              "      <th>seats</th>\n",
              "    </tr>\n",
              "  </thead>\n",
              "  <tbody>\n",
              "    <tr>\n",
              "      <th>count</th>\n",
              "      <td>8128</td>\n",
              "      <td>8128.000000</td>\n",
              "      <td>8.128000e+03</td>\n",
              "      <td>8.128000e+03</td>\n",
              "      <td>8128</td>\n",
              "      <td>8128</td>\n",
              "      <td>8128</td>\n",
              "      <td>8128</td>\n",
              "      <td>7907.000000</td>\n",
              "      <td>7907.000000</td>\n",
              "      <td>7913</td>\n",
              "      <td>7907.000000</td>\n",
              "    </tr>\n",
              "    <tr>\n",
              "      <th>unique</th>\n",
              "      <td>2058</td>\n",
              "      <td>NaN</td>\n",
              "      <td>NaN</td>\n",
              "      <td>NaN</td>\n",
              "      <td>4</td>\n",
              "      <td>3</td>\n",
              "      <td>2</td>\n",
              "      <td>5</td>\n",
              "      <td>NaN</td>\n",
              "      <td>NaN</td>\n",
              "      <td>320</td>\n",
              "      <td>NaN</td>\n",
              "    </tr>\n",
              "    <tr>\n",
              "      <th>top</th>\n",
              "      <td>Maruti Swift Dzire VDI</td>\n",
              "      <td>NaN</td>\n",
              "      <td>NaN</td>\n",
              "      <td>NaN</td>\n",
              "      <td>Diesel</td>\n",
              "      <td>Individual</td>\n",
              "      <td>Manual</td>\n",
              "      <td>First Owner</td>\n",
              "      <td>NaN</td>\n",
              "      <td>NaN</td>\n",
              "      <td>74</td>\n",
              "      <td>NaN</td>\n",
              "    </tr>\n",
              "    <tr>\n",
              "      <th>freq</th>\n",
              "      <td>129</td>\n",
              "      <td>NaN</td>\n",
              "      <td>NaN</td>\n",
              "      <td>NaN</td>\n",
              "      <td>4402</td>\n",
              "      <td>6766</td>\n",
              "      <td>7078</td>\n",
              "      <td>5289</td>\n",
              "      <td>NaN</td>\n",
              "      <td>NaN</td>\n",
              "      <td>377</td>\n",
              "      <td>NaN</td>\n",
              "    </tr>\n",
              "    <tr>\n",
              "      <th>mean</th>\n",
              "      <td>NaN</td>\n",
              "      <td>2013.804011</td>\n",
              "      <td>6.382718e+05</td>\n",
              "      <td>6.981951e+04</td>\n",
              "      <td>NaN</td>\n",
              "      <td>NaN</td>\n",
              "      <td>NaN</td>\n",
              "      <td>NaN</td>\n",
              "      <td>19.418783</td>\n",
              "      <td>1458.625016</td>\n",
              "      <td>NaN</td>\n",
              "      <td>5.416719</td>\n",
              "    </tr>\n",
              "    <tr>\n",
              "      <th>std</th>\n",
              "      <td>NaN</td>\n",
              "      <td>4.044249</td>\n",
              "      <td>8.062534e+05</td>\n",
              "      <td>5.655055e+04</td>\n",
              "      <td>NaN</td>\n",
              "      <td>NaN</td>\n",
              "      <td>NaN</td>\n",
              "      <td>NaN</td>\n",
              "      <td>4.037145</td>\n",
              "      <td>503.916303</td>\n",
              "      <td>NaN</td>\n",
              "      <td>0.959588</td>\n",
              "    </tr>\n",
              "    <tr>\n",
              "      <th>min</th>\n",
              "      <td>NaN</td>\n",
              "      <td>1983.000000</td>\n",
              "      <td>2.999900e+04</td>\n",
              "      <td>1.000000e+00</td>\n",
              "      <td>NaN</td>\n",
              "      <td>NaN</td>\n",
              "      <td>NaN</td>\n",
              "      <td>NaN</td>\n",
              "      <td>0.000000</td>\n",
              "      <td>624.000000</td>\n",
              "      <td>NaN</td>\n",
              "      <td>2.000000</td>\n",
              "    </tr>\n",
              "    <tr>\n",
              "      <th>25%</th>\n",
              "      <td>NaN</td>\n",
              "      <td>2011.000000</td>\n",
              "      <td>2.549990e+05</td>\n",
              "      <td>3.500000e+04</td>\n",
              "      <td>NaN</td>\n",
              "      <td>NaN</td>\n",
              "      <td>NaN</td>\n",
              "      <td>NaN</td>\n",
              "      <td>16.780000</td>\n",
              "      <td>1197.000000</td>\n",
              "      <td>NaN</td>\n",
              "      <td>5.000000</td>\n",
              "    </tr>\n",
              "    <tr>\n",
              "      <th>50%</th>\n",
              "      <td>NaN</td>\n",
              "      <td>2015.000000</td>\n",
              "      <td>4.500000e+05</td>\n",
              "      <td>6.000000e+04</td>\n",
              "      <td>NaN</td>\n",
              "      <td>NaN</td>\n",
              "      <td>NaN</td>\n",
              "      <td>NaN</td>\n",
              "      <td>19.300000</td>\n",
              "      <td>1248.000000</td>\n",
              "      <td>NaN</td>\n",
              "      <td>5.000000</td>\n",
              "    </tr>\n",
              "    <tr>\n",
              "      <th>75%</th>\n",
              "      <td>NaN</td>\n",
              "      <td>2017.000000</td>\n",
              "      <td>6.750000e+05</td>\n",
              "      <td>9.800000e+04</td>\n",
              "      <td>NaN</td>\n",
              "      <td>NaN</td>\n",
              "      <td>NaN</td>\n",
              "      <td>NaN</td>\n",
              "      <td>22.320000</td>\n",
              "      <td>1582.000000</td>\n",
              "      <td>NaN</td>\n",
              "      <td>5.000000</td>\n",
              "    </tr>\n",
              "    <tr>\n",
              "      <th>max</th>\n",
              "      <td>NaN</td>\n",
              "      <td>2020.000000</td>\n",
              "      <td>1.000000e+07</td>\n",
              "      <td>2.360457e+06</td>\n",
              "      <td>NaN</td>\n",
              "      <td>NaN</td>\n",
              "      <td>NaN</td>\n",
              "      <td>NaN</td>\n",
              "      <td>42.000000</td>\n",
              "      <td>3604.000000</td>\n",
              "      <td>NaN</td>\n",
              "      <td>14.000000</td>\n",
              "    </tr>\n",
              "  </tbody>\n",
              "</table>\n",
              "</div>"
            ],
            "text/plain": [
              "                          name         year  selling_price     km_driven  \\\n",
              "count                     8128  8128.000000   8.128000e+03  8.128000e+03   \n",
              "unique                    2058          NaN            NaN           NaN   \n",
              "top     Maruti Swift Dzire VDI          NaN            NaN           NaN   \n",
              "freq                       129          NaN            NaN           NaN   \n",
              "mean                       NaN  2013.804011   6.382718e+05  6.981951e+04   \n",
              "std                        NaN     4.044249   8.062534e+05  5.655055e+04   \n",
              "min                        NaN  1983.000000   2.999900e+04  1.000000e+00   \n",
              "25%                        NaN  2011.000000   2.549990e+05  3.500000e+04   \n",
              "50%                        NaN  2015.000000   4.500000e+05  6.000000e+04   \n",
              "75%                        NaN  2017.000000   6.750000e+05  9.800000e+04   \n",
              "max                        NaN  2020.000000   1.000000e+07  2.360457e+06   \n",
              "\n",
              "          fuel seller_type transmission        owner  mileage(km/ltr/kg)  \\\n",
              "count     8128        8128         8128         8128         7907.000000   \n",
              "unique       4           3            2            5                 NaN   \n",
              "top     Diesel  Individual       Manual  First Owner                 NaN   \n",
              "freq      4402        6766         7078         5289                 NaN   \n",
              "mean       NaN         NaN          NaN          NaN           19.418783   \n",
              "std        NaN         NaN          NaN          NaN            4.037145   \n",
              "min        NaN         NaN          NaN          NaN            0.000000   \n",
              "25%        NaN         NaN          NaN          NaN           16.780000   \n",
              "50%        NaN         NaN          NaN          NaN           19.300000   \n",
              "75%        NaN         NaN          NaN          NaN           22.320000   \n",
              "max        NaN         NaN          NaN          NaN           42.000000   \n",
              "\n",
              "             engine max_power        seats  \n",
              "count   7907.000000      7913  7907.000000  \n",
              "unique          NaN       320          NaN  \n",
              "top             NaN        74          NaN  \n",
              "freq            NaN       377          NaN  \n",
              "mean    1458.625016       NaN     5.416719  \n",
              "std      503.916303       NaN     0.959588  \n",
              "min      624.000000       NaN     2.000000  \n",
              "25%     1197.000000       NaN     5.000000  \n",
              "50%     1248.000000       NaN     5.000000  \n",
              "75%     1582.000000       NaN     5.000000  \n",
              "max     3604.000000       NaN    14.000000  "
            ]
          },
          "execution_count": 10,
          "metadata": {},
          "output_type": "execute_result"
        }
      ],
      "source": [
        "df.describe(include='all')"
      ]
    },
    {
      "cell_type": "code",
      "execution_count": 11,
      "metadata": {
        "colab": {
          "base_uri": "https://localhost:8080/",
          "height": 460
        },
        "id": "qa-98ohPAdCC",
        "outputId": "5f415e4c-46b5-407b-8d95-9bc5631a2529"
      },
      "outputs": [
        {
          "data": {
            "text/plain": [
              "name                    0\n",
              "year                    0\n",
              "selling_price           0\n",
              "km_driven               0\n",
              "fuel                    0\n",
              "seller_type             0\n",
              "transmission            0\n",
              "owner                   0\n",
              "mileage(km/ltr/kg)    221\n",
              "engine                221\n",
              "max_power             215\n",
              "seats                 221\n",
              "dtype: int64"
            ]
          },
          "execution_count": 11,
          "metadata": {},
          "output_type": "execute_result"
        }
      ],
      "source": [
        "df.isnull().sum()"
      ]
    },
    {
      "cell_type": "markdown",
      "metadata": {
        "id": "tVFuE55K_TdE"
      },
      "source": [
        "During the data cleaning phase, the Large Language Model (LLM) played a crucial role in providing insights and recommendations. By analyzing the dataset's columns and their characteristics, the LLM suggested the best approaches for handling missing values and data inconsistencies. This assistance significantly streamlined the data cleaning process, leading to a more refined and reliable dataset for subsequent modeling steps."
      ]
    },
    {
      "cell_type": "code",
      "execution_count": 12,
      "metadata": {
        "colab": {
          "base_uri": "https://localhost:8080/"
        },
        "collapsed": true,
        "id": "J81aEDPP6v3g",
        "outputId": "a82e5b53-5a13-4a43-e86e-4361e8a65d48"
      },
      "outputs": [
        {
          "name": "stdout",
          "output_type": "stream",
          "text": [
            "Okay, I've reviewed the data cleaning steps I provided earlier, and based on the sample data you've given, here's a more focused assessment of potential areas you might have missed or could refine:\n",
            "\n",
            "**Areas to Double-Check and Potentially Improve:**\n",
            "\n",
            "1.  **`name` Column - More Granular Cleaning:**\n",
            "\n",
            "    *   **Issue:**  You're currently extracting only the brand name.  While this is a good start, you might want to consider extracting the model name as well.  This could provide valuable information for your model.\n",
            "    *   **Example:**  Instead of just \"Maruti\", extract \"Maruti Swift Dzire\".\n",
            "    *   **Code Suggestion:**\n",
            "\n",
            "    ```python\n",
            "    df['brand'] = df['name'].str.split(' ').str.get(0)  # Extract brand\n",
            "    df['model'] = df['name'].str.split(' ', n=1).str[1]  # Extract model (rest of the name)\n",
            "    df.drop('name', axis=1, inplace=True) #Drop name column\n",
            "    ```\n",
            "\n",
            "    *   **Further Considerations:**  You might need to handle cases where the model name has multiple words (e.g., \"Skoda Rapid 1.5 TDI\").  The `n=1` in the `split` function limits the split to one occurrence, keeping the rest of the model name together.\n",
            "\n",
            "2.  **`year` Column - Age of the Car:**\n",
            "\n",
            "    *   **Suggestion:** Instead of just filtering for valid years, create a new feature representing the age of the car. This can be more informative than the raw year.\n",
            "    *   **Code Suggestion:**\n",
            "\n",
            "    ```python\n",
            "    import datetime\n",
            "    current_year = datetime.datetime.now().year\n",
            "    df['car_age'] = current_year - df['year']\n",
            "    df.drop('year', axis=1, inplace=True)  # Drop the original 'year' column\n",
            "    ```\n",
            "\n",
            "    *   **Reasoning:**  The age of the car is often a more direct predictor of price than the specific year it was manufactured.\n",
            "\n",
            "3.  **`max_power` - Zero Values After Cleaning:**\n",
            "\n",
            "    *   **Potential Issue:** After removing \"bhp\" and converting to numeric, you might have introduced `NaN` values where the original data was invalid (e.g., empty strings or non-numeric text).  You're imputing these with the median, which is good, but you should investigate *why* these values are missing.\n",
            "    *   **Action:**\n",
            "        *   **Check for Patterns:**  Are missing `max_power` values correlated with specific car models, years, or other features?  This could indicate a systematic issue with the data source.\n",
            "        *   **Consider Alternative Imputation:**  If missingness is related to car model, consider imputing with the median `max_power` for *that specific model*.  This would be more accurate than using the overall median.\n",
            "\n",
            "4.  **`owner` Column - Ordinal Encoding:**\n",
            "\n",
            "    *   **Improvement:** The `owner` column represents an ordinal relationship (1st < 2nd < 3rd < 4th & Above).  Instead of treating it as a regular categorical feature, consider ordinal encoding.\n",
            "    *   **Code Suggestion:**\n",
            "\n",
            "    ```python\n",
            "    owner_mapping = {'1st Owner': 1, '2nd Owner': 2, '3rd Owner': 3, '4th & Above Owner': 4}\n",
            "    df['owner'] = df['owner'].map(owner_mapping)\n",
            "    ```\n",
            "\n",
            "    *   **Benefit:**  This allows your model to understand the order of ownership, which can be important for predicting price.\n",
            "\n",
            "5.  **Missing Values - A More Systematic Approach:**\n",
            "\n",
            "    *   **Suggestion:**  Before imputing missing values, get a clear picture of *where* they are.\n",
            "    *   **Code:**\n",
            "\n",
            "    ```python\n",
            "    print(df.isnull().sum())  # Count missing values per column\n",
            "    import seaborn as sns\n",
            "    import matplotlib.pyplot as plt\n",
            "    sns.heatmap(df.isnull(), cbar=False)\n",
            "    plt.show()\n",
            "    ```\n",
            "\n",
            "    *   **Reasoning:**  This helps you prioritize which columns need imputation and whether there are patterns in the missingness.\n",
            "\n",
            "6.  **Outlier Handling - Be Cautious:**\n",
            "\n",
            "    *   **Reminder:** While you're removing outliers using the IQR method, be careful not to remove too much data, especially in the `selling_price` column.  Consider visualizing the distribution of `selling_price` before and after outlier removal to ensure you're not losing valuable information.  You might want to adjust the multiplier (1.5) in the IQR calculation.\n",
            "\n",
            "7.  **Categorical Feature Encoding:**\n",
            "\n",
            "    *   **Reminder:** After cleaning categorical features (`fuel`, `seller_type`, `transmission`, `brand`, `model`), you'll need to encode them into numerical representations that your machine learning model can understand. Common methods include:\n",
            "        *   **One-Hot Encoding:**  Suitable for categorical features with no inherent order (e.g., `fuel`, `seller_type`, `transmission`, `brand`).\n",
            "        *   **Label Encoding:**  Can be used, but be mindful that it might imply an artificial order to the categories.\n",
            "        *   **Target Encoding:**  Can be effective, but be careful of overfitting.\n",
            "\n",
            "**Revised Code Snippets (incorporating suggestions):**\n",
            "\n",
            "```python\n",
            "import pandas as pd\n",
            "import numpy as np\n",
            "import datetime\n",
            "import seaborn as sns\n",
            "import matplotlib.pyplot as plt\n",
            "\n",
            "# Load your data\n",
            "df = pd.read_csv('your_data.csv')\n",
            "\n",
            "# 1. Name Column: Extract Brand and Model\n",
            "df['brand'] = df['name'].str.split(' ').str.get(0)  # Extract brand\n",
            "df['model'] = df['name'].str.split(' ', n=1).str[1]  # Extract model (rest of the name)\n",
            "df.drop('name', axis=1, inplace=True) #Drop name column\n",
            "\n",
            "# 2. Year Column: Create Car Age\n",
            "current_year = datetime.datetime.now().year\n",
            "df['car_age'] = current_year - df['year']\n",
            "df.drop('year', axis=1, inplace=True)\n",
            "\n",
            "# 3. Owner Column: Ordinal Encoding\n",
            "owner_mapping = {'First Owner': 1, 'Second Owner': 2, 'Third Owner': 3, 'Fourth & Above Owner': 4}\n",
            "df['owner'] = df['owner'].map(owner_mapping)\n",
            "\n",
            "# 4. Fuel, Seller_Type, Transmission: Standardize\n",
            "for col in ['fuel', 'seller_type', 'transmission']:\n",
            "    df[col] = df[col].str.strip().str.lower()\n",
            "\n",
            "# Correct common typos and inconsistencies\n",
            "df['fuel'] = df['fuel'].replace({'petrol': 'Petrol', 'diesel': 'Diesel'})\n",
            "df['seller_type'] = df['seller_type'].replace({'individual': 'Individual', 'dealer': 'Dealer'})\n",
            "df['transmission'] = df['transmission'].replace({'manual': 'Manual', 'automatic': 'Automatic'})\n",
            "\n",
            "# 5. Max_Power: Clean and Impute (Check for Patterns in Missingness First!)\n",
            "df['max_power'] = df['max_power'].str.replace('bhp', '').str.strip()\n",
            "df['max_power'] = pd.to_numeric(df['max_power'], errors='coerce')\n",
            "\n",
            "# Check for patterns in missing max_power\n",
            "print(df[df['max_power'].isnull()]['model'].value_counts()) #Example: Check missingness by model\n",
            "\n",
            "df['max_power'].fillna(df['max_power'].median(), inplace=True)  # Impute with median\n",
            "\n",
            "# 6. Seats: Impute and Filter\n",
            "df['seats'].fillna(df['seats'].mode()[0], inplace=True)\n",
            "df = df[(df['seats'] >= 2) & (df['seats'] <= 10)]\n",
            "\n",
            "# 7. Engine and Mileage: Impute Missing Values\n",
            "df['engine'].fillna(df['engine'].median(), inplace=True)\n",
            "df['mileage(km/ltr/kg)'].fillna(df['mileage(km/ltr/kg)'].median(), inplace=True)\n",
            "\n",
            "# 8. Outlier Removal (Be Cautious!)\n",
            "numerical_cols = ['km_driven', 'selling_price', 'engine', 'max_power', 'mileage(km/ltr/kg)']\n",
            "\n",
            "for col in numerical_cols:\n",
            "    Q1 = df[col].quantile(0.25)\n",
            "    Q3 = df[col].quantile(0.75)\n",
            "    IQR = Q3 - Q1\n",
            "    lower_bound = Q1 - 1.5 * IQR\n",
            "    upper_bound = Q3 + 1.5 * IQR\n",
            "    df = df[(df[col] >= lower_bound) & (df[col] <= upper_bound)]\n",
            "\n",
            "# 9. Display Missing Values\n",
            "print(df.isnull().sum())\n",
            "sns.heatmap(df.isnull(), cbar=False)\n",
            "plt.show()\n",
            "\n",
            "# Display the cleaned data\n",
            "print(df.head())\n",
            "print(df.info())\n",
            "```\n",
            "\n",
            "By addressing these points, you'll have a more robust and informative dataset for your machine learning model. Remember to adapt the code and strategies based on your specific data and goals. Good luck!\n"
          ]
        }
      ],
      "source": [
        "human_prompt = f\"\"\" use {df} if needed to tell me if i missed something on data cleaning\n",
        "\"\"\"\n",
        "print(ask_llm(human_prompt))"
      ]
    },
    {
      "cell_type": "markdown",
      "metadata": {
        "id": "iU1Bt0K5_Dcg"
      },
      "source": [
        "## 3. Data Cleaning\n",
        "\n",
        "- Missing values in 'engine', 'seats', and 'mileage(km/ltr/kg)' were imputed with the median of their respective columns.\n",
        "- Missing values in 'max_power' were imputed with the mean of the column after converting it to a numeric type (handling potential errors by coercing to NaN).\n",
        "- A new feature, 'car_age', was created by subtracting the 'year' from 2025."
      ]
    },
    {
      "cell_type": "code",
      "execution_count": 13,
      "metadata": {
        "id": "EKaAdc1E7ERz"
      },
      "outputs": [],
      "source": [
        "df['car_age'] = 2025- df['year'] # new feature add vayo"
      ]
    },
    {
      "cell_type": "code",
      "execution_count": 14,
      "metadata": {
        "id": "UkSrBjbVziIW"
      },
      "outputs": [],
      "source": [
        "nulls =['engine', 'seats', 'mileage(km/ltr/kg)']\n",
        "df['max_power'] = pd.to_numeric(df['max_power'], errors='coerce')\n",
        "nulls2 =['max_power']\n",
        "df.fillna(df[nulls].median(), inplace=True)\n",
        "df.fillna(df[nulls2].mean(), inplace=True)"
      ]
    },
    {
      "cell_type": "code",
      "execution_count": 15,
      "metadata": {
        "colab": {
          "base_uri": "https://localhost:8080/",
          "height": 491
        },
        "id": "0X0oauS-x8Qy",
        "outputId": "84a6b971-432a-4707-ffd1-089b476925fb"
      },
      "outputs": [
        {
          "data": {
            "text/plain": [
              "name                  0\n",
              "year                  0\n",
              "selling_price         0\n",
              "km_driven             0\n",
              "fuel                  0\n",
              "seller_type           0\n",
              "transmission          0\n",
              "owner                 0\n",
              "mileage(km/ltr/kg)    0\n",
              "engine                0\n",
              "max_power             0\n",
              "seats                 0\n",
              "car_age               0\n",
              "dtype: int64"
            ]
          },
          "execution_count": 15,
          "metadata": {},
          "output_type": "execute_result"
        }
      ],
      "source": [
        "df.isnull().sum()"
      ]
    },
    {
      "cell_type": "markdown",
      "metadata": {
        "id": "t8UcUNwqAtPG"
      },
      "source": [
        "## 4. Exploratory Data Analysis (EDA)\n",
        "\n",
        "- Visualizations were generated to understand the relationships between different features and the selling price:\n",
        "    - Histogram of selling price distribution.\n",
        "    - Scatter plots of selling price vs. 'km_driven' and 'car_age'.\n",
        "    - Box plots showing selling price by 'fuel' type and 'transmission'.\n",
        "    - A heatmap of the correlation matrix for numerical features was plotted."
      ]
    },
    {
      "cell_type": "code",
      "execution_count": 16,
      "metadata": {
        "colab": {
          "base_uri": "https://localhost:8080/",
          "height": 831
        },
        "id": "uTrAjeg47gM4",
        "outputId": "430cf79a-2a82-4cc6-ff6d-80b636b2c47a"
      },
      "outputs": [
        {
          "data": {
            "image/png": "[encoded data removed]",
            "text/plain": [
              "<Figure size 1500x1000 with 7 Axes>"
            ]
          },
          "metadata": {},
          "output_type": "display_data"
        }
      ],
      "source": [
        "import matplotlib.pyplot as plt\n",
        "import seaborn as sns\n",
        "\n",
        "plt.figure(figsize=(15, 10))\n",
        "\n",
        "plt.subplot(2, 3, 1)\n",
        "plt.hist(df['selling_price'], bins=30, edgecolor='black')\n",
        "plt.title('Selling Price Distribution')\n",
        "plt.xlabel('Price')\n",
        "\n",
        "plt.subplot(2, 3, 2)\n",
        "plt.scatter(df['km_driven'], df['selling_price'], alpha=0.6)\n",
        "plt.title('Price vs KM Driven')\n",
        "plt.xlabel('KM Driven')\n",
        "plt.ylabel('Selling Price')\n",
        "\n",
        "plt.subplot(2, 3, 3)\n",
        "plt.scatter(df['car_age'], df['selling_price'], alpha=0.6)\n",
        "plt.title('Price vs Car Age')\n",
        "plt.xlabel('Car Age')\n",
        "plt.ylabel('Selling Price')\n",
        "\n",
        "plt.subplot(2, 3, 4)\n",
        "sns.boxplot(data=df, x='fuel', y='selling_price')\n",
        "plt.title('Price by Fuel Type')\n",
        "plt.xticks(rotation=45)\n",
        "\n",
        "plt.subplot(2, 3, 5)\n",
        "sns.boxplot(data=df, x='transmission', y='selling_price')\n",
        "plt.title('Price by Transmission')\n",
        "\n",
        "plt.subplot(2, 3, 6)\n",
        "correlation_matrix = df.select_dtypes(include=[np.number]).corr()\n",
        "sns.heatmap(correlation_matrix, annot=True, cmap='coolwarm', center=0)\n",
        "plt.title('Correlation Matrix')\n",
        "\n",
        "plt.tight_layout()\n",
        "plt.show()"
      ]
    },
    {
      "cell_type": "code",
      "execution_count": 20,
      "metadata": {
        "colab": {
          "base_uri": "https://localhost:8080/"
        },
        "id": "TYC_ysIOPV3K",
        "outputId": "72065dde-d2db-44e9-c550-4e10f09d83c2"
      },
      "outputs": [
        {
          "name": "stdout",
          "output_type": "stream",
          "text": [
            "Okay, I've analyzed the visualizations you described and will provide insights and recommendations based on them and the provided dataframe.\n",
            "\n",
            "**Interpretation of Visualizations and Insights:**\n",
            "\n",
            "*   **Selling Price Distribution Histogram:**\n",
            "    *   The distribution is likely right-skewed, indicating that most cars are sold at lower prices, with fewer cars sold at very high prices. This is typical for used car sales.\n",
            "    *   There might be some noticeable peaks, suggesting common price points or popular car models.\n",
            "\n",
            "*   **Selling Price vs KM Driven Scatter Plot:**\n",
            "    *   A negative correlation is expected. As the kilometers driven increase, the selling price tends to decrease.\n",
            "    *   The relationship might not be perfectly linear. The price decrease might be steeper initially and then flatten out.\n",
            "    *   There will likely be a lot of scatter, indicating that kilometers driven is not the only factor determining price.\n",
            "\n",
            "*   **Selling Price vs Car Age Scatter Plot:**\n",
            "    *   Similar to KM Driven, a negative correlation is expected. Older cars (higher car age) generally have lower selling prices.\n",
            "    *   The relationship might be exponential, with a steeper price drop in the initial years.\n",
            "    *   Again, expect a lot of scatter, as other factors influence the price.\n",
            "\n",
            "*   **Price by Fuel Type Box Plot:**\n",
            "    *   Diesel cars are generally priced higher than petrol cars.\n",
            "    *   CNG and LPG cars might have lower prices compared to petrol cars.\n",
            "    *   The box plot will show the median price for each fuel type, the spread of prices (IQR), and any outliers.\n",
            "\n",
            "*   **Price by Transmission Box Plot:**\n",
            "    *   Automatic transmission cars are typically priced higher than manual transmission cars.\n",
            "    *   The box plot will show the difference in median prices and the price range for each transmission type.\n",
            "\n",
            "*   **Correlation Matrix Heatmap:**\n",
            "    *   This visualization shows the correlation coefficients between all numerical features.\n",
            "    *   Expect to see a strong positive correlation between `year` and `selling_price` (and a strong negative correlation between `car_age` and `selling_price`, since `car_age` is derived from `year`).\n",
            "    *   Other potentially important correlations to look for:\n",
            "        *   `engine` and `selling_price` (larger engines might correlate with higher prices).\n",
            "        *   `max_power` and `selling_price` (higher power might correlate with higher prices).\n",
            "        *   `seats` and `selling_price` (more seats might correlate with higher prices, especially for SUVs/MPVs).\n",
            "        *   `km_driven` and `selling_price` (negative correlation).\n",
            "    *   The heatmap will also reveal multicollinearity (high correlation between predictor variables), which can be important to address during model building.\n",
            "\n",
            "**Recommendations for Feature Selection and Further Analysis:**\n",
            "\n",
            "Based on the visualizations and the dataframe's current state, here are potential features for predicting selling price and suggestions for further analysis:\n",
            "\n",
            "**Impactful Features:**\n",
            "\n",
            "*   **`car_age`:**  This is a very important feature, as newer cars are generally worth more. It's already calculated and available.\n",
            "*   **`km_driven`:**  The total distance the car has traveled is a key indicator of wear and tear.\n",
            "*   **`fuel`:**  Fuel type significantly impacts price. Consider one-hot encoding this feature.\n",
            "*   **`transmission`:** Automatic vs. manual transmission is a strong differentiator. One-hot encode this feature.\n",
            "*   **`seller_type`:**  Dealer cars might command higher prices than individual sellers. One-hot encode this feature.\n",
            "*   **`engine`:** Engine displacement can be a good indicator of the car's performance and value.\n",
            "*   **`max_power`:**  A direct measure of the car's power.\n",
            "*    **`seats`:** Number of seats can influence the price, especially for larger vehicles.\n",
            "*   **`owner`:** The number of previous owners can affect the price. Consider converting this to a numerical representation (e.g., 1 for First Owner, 2 for Second Owner, etc.).\n",
            "\n",
            "**Further Analysis and Preprocessing Steps:**\n",
            "\n",
            "1.  **Outlier Handling:**\n",
            "    *   Examine the `selling_price`, `km_driven`, `engine`, and `max_power` columns for outliers. Consider using techniques like IQR-based filtering or winsorization to handle them.\n",
            "\n",
            "2.  **Feature Engineering:**\n",
            "    *   **Interaction Terms:** Create interaction terms between features that might have a combined effect. For example:\n",
            "        *   `car_age * km_driven`:  Captures the combined effect of age and mileage. A very old car with very high mileage might be worth significantly less than what either feature would suggest on its own.\n",
            "        *   `fuel * engine`: The combination of fuel type and engine size might be important.\n",
            "        *   `transmission * car_age`: The impact of automatic transmission might be different for older vs. newer cars.\n",
            "    *   **Binning/Categorization:** Consider binning numerical features like `km_driven` or `engine` into categories (e.g., low, medium, high mileage) if the relationship with `selling_price` is non-linear.\n",
            "    *   **Engine Power to Weight Ratio:** Create a new feature by dividing `max_power` by `engine`. This could provide a better indication of performance.\n",
            "\n",
            "3.  **One-Hot Encoding:**\n",
            "    *   Convert categorical features like `fuel`, `seller_type`, and `transmission` into numerical data using one-hot encoding. Be mindful of multicollinearity when one-hot encoding; you might need to drop one category to avoid it.\n",
            "    *   Consider the `owner` column. If you convert it to numerical, you might still want to treat it as categorical and one-hot encode it, especially if there are non-linear effects.\n",
            "\n",
            "4.  **Name Feature Analysis:**\n",
            "    *   The `name` column contains valuable information about the car's brand and model.\n",
            "    *   **Brand Extraction:** Extract the car brand from the `name` column (e.g., \"Maruti\", \"Hyundai\", \"Toyota\"). This can be a very strong predictor.\n",
            "    *   **Model Extraction:** Extract the car model from the `name` column (e.g., \"Swift Dzire\", \"i20\", \"Fortuner\").\n",
            "    *   **Feature Aggregation:** After extracting brand and model, consider aggregating the data to calculate average selling prices for each brand and model. This can be used as a feature in your model.\n",
            "    *   **Regular Expression:** Use regular expressions to extract specific features from the `name` column, such as engine type (e.g., \"Diesel\", \"Petrol\") or trim level (e.g., \"LXI\", \"VXI\", \"ZDI\").\n",
            "\n",
            "5.  **Multicollinearity Check:**\n",
            "    *   After feature engineering, re-examine the correlation matrix to identify any highly correlated features. Use techniques like Variance Inflation Factor (VIF) to quantify multicollinearity.\n",
            "    *   Address multicollinearity by removing redundant features or using dimensionality reduction techniques like Principal Component Analysis (PCA).\n",
            "\n",
            "6.  **Model Selection:**\n",
            "    *   Start with simpler models like linear regression or decision trees to establish a baseline.\n",
            "    *   Explore more complex models like random forests, gradient boosting (e.g., XGBoost, LightGBM), or neural networks to potentially improve accuracy.\n",
            "\n",
            "7.  **Model Evaluation:**\n",
            "    *   Use appropriate evaluation metrics such as Mean Squared Error (MSE), Root Mean Squared Error (RMSE), Mean Absolute Error (MAE), or R-squared to assess model performance.\n",
            "    *   Use cross-validation to get a reliable estimate of the model's generalization performance.\n",
            "\n",
            "**Example Code Snippets (Illustrative):**\n",
            "\n",
            "```python\n",
            "import pandas as pd\n",
            "import numpy as np\n",
            "\n",
            "# Example: Extracting brand from the 'name' column\n",
            "df['brand'] = df['name'].apply(lambda x: x.split(\" \")[0])\n",
            "\n",
            "# Example: Converting 'owner' to numerical\n",
            "owner_mapping = {'First Owner': 1, 'Second Owner': 2, 'Third Owner': 3, 'Fourth & Above Owner': 4, 'Test Drive Car': 0}\n",
            "df['owner_numerical'] = df['owner'].map(owner_mapping)\n",
            "\n",
            "# Example: One-hot encoding 'fuel'\n",
            "df = pd.get_dummies(df, columns=['fuel'], drop_first=True) # drop_first to avoid multicollinearity\n",
            "\n",
            "# Example: Creating an interaction term\n",
            "df['car_age_km'] = df['car_age'] * df['km_driven']\n",
            "\n",
            "# Example: Handling outliers (Winsorization)\n",
            "from scipy.stats.mstats import winsorize\n",
            "df['km_driven'] = winsorize(df['km_driven'], limits=[0.05, 0.05]) # Trim 5% from each end\n",
            "```\n",
            "\n",
            "**Important Considerations:**\n",
            "\n",
            "*   **Data Leakage:** Be extremely careful to avoid data leakage during preprocessing and model building. For example, if you use scaling, fit the scaler only on the training data and then transform both the training and test data.\n",
            "*   **Domain Knowledge:** Use your understanding of the used car market to guide feature selection and engineering.\n",
            "*   **Iterative Process:** Model building is an iterative process. Experiment with different features, models, and preprocessing techniques to find the best solution.\n",
            "\n",
            "By carefully interpreting the visualizations and following these recommendations, you should be able to build a robust and accurate model for predicting used car selling prices. Let me know if you have any more questions or want me to elaborate on any of these points!\n"
          ]
        }
      ],
      "source": [
        "human_prompt = f\"\"\" Interpret the findings from the following visualizations and tell me what insights I can gain about the relationships between features and the selling price:\n",
        "- Selling Price Distribution histogram\n",
        "- Selling Price vs KM Driven scatter plot\n",
        "- Selling Price vs Car Age scatter plot\n",
        "- Price by Fuel Type box plot\n",
        "- Price by Transmission box plot\n",
        "- Correlation Matrix heatmap\n",
        "\n",
        "Based on these visualizations, recommend potential features that could be most impactful for predicting the selling price and suggest further analysis or preprocessing steps that might be beneficial for building a robust prediction model.\n",
        "\n",
        "Use the current state of the dataframe as context if needed:\n",
        "{df.to_string()}\n",
        "\"\"\"\n",
        "print(ask_llm(human_prompt))"
      ]
    },
    {
      "cell_type": "code",
      "execution_count": 21,
      "metadata": {
        "colab": {
          "base_uri": "https://localhost:8080/"
        },
        "id": "Rmj_6itAEVLE",
        "outputId": "c7b0af8d-0d97-4193-d4d6-18469921c9e4"
      },
      "outputs": [
        {
          "data": {
            "text/plain": [
              "(array(['Individual', 'Dealer', 'Trustmark Dealer'], dtype=object),\n",
              " array(['Diesel', 'Petrol', 'LPG', 'CNG'], dtype=object),\n",
              " array(['Manual', 'Automatic'], dtype=object))"
            ]
          },
          "execution_count": 21,
          "metadata": {},
          "output_type": "execute_result"
        }
      ],
      "source": [
        "df['seller_type'].unique(),df['fuel'].unique(),df['transmission'].unique()"
      ]
    },
    {
      "cell_type": "markdown",
      "metadata": {
        "id": "D9nW-NJYCO-i"
      },
      "source": [
        "\n",
        "## 5. Feature Engineering and Preprocessing\n",
        "\n",
        "- Categorical features ('fuel', 'seller_type', 'transmission', 'owner') were converted into numerical representations using Label Encoding.\n",
        "- The 'year' and 'name' columns were dropped based on the correlation analysis (though the correlation analysis is shown *after* dropping, indicating this was likely a pre-meditated step or based on an earlier run).\n",
        "- The target variable 'selling_price' was separated from the features.\n",
        "- The target variable 'selling_price' was scaled using `StandardScaler`.\n",
        "- The data was split into training and testing sets (80% train, 20% test)."
      ]
    },
    {
      "cell_type": "code",
      "execution_count": 22,
      "metadata": {
        "id": "eQIJWupPPw_T"
      },
      "outputs": [],
      "source": [
        "from sklearn.preprocessing import LabelEncoder\n",
        "\n",
        "le = LabelEncoder()\n",
        "df['fuel'] = le.fit_transform(df['fuel'])\n",
        "df['seller_type'] = le.fit_transform(df['seller_type'])\n",
        "df['transmission'] = le.fit_transform(df['transmission'])\n",
        "df['owner'] = le.fit_transform(df['owner'])"
      ]
    },
    {
      "cell_type": "code",
      "execution_count": null,
      "metadata": {
        "id": "a354YKpFGZ46"
      },
      "outputs": [],
      "source": [
        "# #yaha batw car model extract garna sakincha\n",
        "\n",
        "# def extract_model_from_name(car_name):\n",
        "#   parts = car_name.split(' ', 1)\n",
        "#   if len(parts) > 1:\n",
        "#     return parts[1]\n",
        "#   return car_name # Return the whole name if only one word\n",
        "\n",
        "# df['model'] = df['name'].apply(extract_model_from_name)\n"
      ]
    },
    {
      "cell_type": "code",
      "execution_count": 23,
      "metadata": {
        "colab": {
          "base_uri": "https://localhost:8080/"
        },
        "id": "g2NjoaLOKcYg",
        "outputId": "5340a164-9356-48a4-8095-4b39ff9f3b4d"
      },
      "outputs": [
        {
          "name": "stdout",
          "output_type": "stream",
          "text": [
            "Correlation Matrix:\n",
            "                        year  selling_price  km_driven      fuel  seller_type  \\\n",
            "year                1.000000       0.414092  -0.418006 -0.050312    -0.146042   \n",
            "selling_price       0.414092       1.000000  -0.225534 -0.194029    -0.335857   \n",
            "km_driven          -0.418006      -0.225534   1.000000 -0.265877     0.122105   \n",
            "fuel               -0.050312      -0.194029  -0.265877  1.000000     0.110512   \n",
            "seller_type        -0.146042      -0.335857   0.122105  0.110512     1.000000   \n",
            "transmission       -0.244707      -0.588845   0.201229 -0.035255     0.227871   \n",
            "owner              -0.477249      -0.229174   0.280340 -0.022339     0.143443   \n",
            "mileage(km/ltr/kg)  0.311657      -0.125040  -0.171746 -0.081784    -0.019826   \n",
            "engine              0.035851       0.458345   0.198911 -0.479134    -0.091723   \n",
            "max_power           0.213282       0.744958  -0.037714 -0.277107    -0.244764   \n",
            "seats               0.010222       0.047135   0.219860 -0.337575     0.051546   \n",
            "car_age            -1.000000      -0.414092   0.418006  0.050312     0.146042   \n",
            "\n",
            "                    transmission     owner  mileage(km/ltr/kg)    engine  \\\n",
            "year                   -0.244707 -0.477249            0.311657  0.035851   \n",
            "selling_price          -0.588845 -0.229174           -0.125040  0.458345   \n",
            "km_driven               0.201229  0.280340           -0.171746  0.198911   \n",
            "fuel                   -0.035255 -0.022339           -0.081784 -0.479134   \n",
            "seller_type             0.227871  0.143443           -0.019826 -0.091723   \n",
            "transmission            1.000000  0.147458            0.177593 -0.283986   \n",
            "owner                   0.147458  1.000000           -0.158905  0.002719   \n",
            "mileage(km/ltr/kg)      0.177593 -0.158905            1.000000 -0.574128   \n",
            "engine                 -0.283986  0.002719           -0.574128  1.000000   \n",
            "max_power              -0.538186 -0.102720           -0.373525  0.701298   \n",
            "seats                   0.069070  0.019928           -0.450578  0.612220   \n",
            "car_age                 0.244707  0.477249           -0.311657 -0.035851   \n",
            "\n",
            "                    max_power     seats   car_age  \n",
            "year                 0.213282  0.010222 -1.000000  \n",
            "selling_price        0.744958  0.047135 -0.414092  \n",
            "km_driven           -0.037714  0.219860  0.418006  \n",
            "fuel                -0.277107 -0.337575  0.050312  \n",
            "seller_type         -0.244764  0.051546  0.146042  \n",
            "transmission        -0.538186  0.069070  0.244707  \n",
            "owner               -0.102720  0.019928  0.477249  \n",
            "mileage(km/ltr/kg)  -0.373525 -0.450578 -0.311657  \n",
            "engine               0.701298  0.612220 -0.035851  \n",
            "max_power            1.000000  0.191785 -0.213282  \n",
            "seats                0.191785  1.000000 -0.010222  \n",
            "car_age             -0.213282 -0.010222  1.000000  \n",
            "\n",
            "Correlation with Selling Price\n",
            "seats                 0.047135\n",
            "mileage(km/ltr/kg)    0.125040\n",
            "fuel                  0.194029\n",
            "km_driven             0.225534\n",
            "owner                 0.229174\n",
            "seller_type           0.335857\n",
            "year                  0.414092\n",
            "car_age               0.414092\n",
            "engine                0.458345\n",
            "transmission          0.588845\n",
            "max_power             0.744958\n",
            "selling_price         1.000000\n",
            "Name: selling_price, dtype: float64\n"
          ]
        }
      ],
      "source": [
        "# prompt: analyze the coerrelation and tell me which columns to drop\n",
        "\n",
        "# Analyze correlation matrix and identify columns to potentially drop\n",
        "correlation_matrix = df.select_dtypes(include=[np.number]).corr()\n",
        "print(\"Correlation Matrix:\")\n",
        "print(correlation_matrix)\n",
        "\n",
        "target_correlation = correlation_matrix['selling_price'].abs().sort_values()\n",
        "print(\"\\nCorrelation with Selling Price\")\n",
        "print(target_correlation)"
      ]
    },
    {
      "cell_type": "code",
      "execution_count": 24,
      "metadata": {
        "id": "b63R_4NcKYGX"
      },
      "outputs": [],
      "source": [
        "droping = ['year', 'name']\n",
        "df = df.drop(droping, axis=1)"
      ]
    },
    {
      "cell_type": "code",
      "execution_count": 25,
      "metadata": {
        "id": "NjoheBRiF3sC"
      },
      "outputs": [],
      "source": [
        "from sklearn.model_selection import train_test_split\n",
        "x=df.drop(['selling_price'],axis=1)\n",
        "y=df['selling_price']"
      ]
    },
    {
      "cell_type": "code",
      "execution_count": 26,
      "metadata": {
        "colab": {
          "base_uri": "https://localhost:8080/",
          "height": 423
        },
        "id": "3qnuRbaTKdKW",
        "outputId": "5b11502d-93ed-4a16-f571-84da82846063"
      },
      "outputs": [
        {
          "data": {
            "text/html": [
              "<div>\n",
              "<style scoped>\n",
              "    .dataframe tbody tr th:only-of-type {\n",
              "        vertical-align: middle;\n",
              "    }\n",
              "\n",
              "    .dataframe tbody tr th {\n",
              "        vertical-align: top;\n",
              "    }\n",
              "\n",
              "    .dataframe thead th {\n",
              "        text-align: right;\n",
              "    }\n",
              "</style>\n",
              "<table border=\"1\" class=\"dataframe\">\n",
              "  <thead>\n",
              "    <tr style=\"text-align: right;\">\n",
              "      <th></th>\n",
              "      <th>km_driven</th>\n",
              "      <th>fuel</th>\n",
              "      <th>seller_type</th>\n",
              "      <th>transmission</th>\n",
              "      <th>owner</th>\n",
              "      <th>mileage(km/ltr/kg)</th>\n",
              "      <th>engine</th>\n",
              "      <th>max_power</th>\n",
              "      <th>seats</th>\n",
              "      <th>car_age</th>\n",
              "    </tr>\n",
              "  </thead>\n",
              "  <tbody>\n",
              "    <tr>\n",
              "      <th>0</th>\n",
              "      <td>145500</td>\n",
              "      <td>1</td>\n",
              "      <td>1</td>\n",
              "      <td>1</td>\n",
              "      <td>0</td>\n",
              "      <td>23.40</td>\n",
              "      <td>1248.0</td>\n",
              "      <td>74.00</td>\n",
              "      <td>5.0</td>\n",
              "      <td>11</td>\n",
              "    </tr>\n",
              "    <tr>\n",
              "      <th>1</th>\n",
              "      <td>120000</td>\n",
              "      <td>1</td>\n",
              "      <td>1</td>\n",
              "      <td>1</td>\n",
              "      <td>2</td>\n",
              "      <td>21.14</td>\n",
              "      <td>1498.0</td>\n",
              "      <td>103.52</td>\n",
              "      <td>5.0</td>\n",
              "      <td>11</td>\n",
              "    </tr>\n",
              "    <tr>\n",
              "      <th>2</th>\n",
              "      <td>140000</td>\n",
              "      <td>3</td>\n",
              "      <td>1</td>\n",
              "      <td>1</td>\n",
              "      <td>4</td>\n",
              "      <td>17.70</td>\n",
              "      <td>1497.0</td>\n",
              "      <td>78.00</td>\n",
              "      <td>5.0</td>\n",
              "      <td>19</td>\n",
              "    </tr>\n",
              "    <tr>\n",
              "      <th>3</th>\n",
              "      <td>127000</td>\n",
              "      <td>1</td>\n",
              "      <td>1</td>\n",
              "      <td>1</td>\n",
              "      <td>0</td>\n",
              "      <td>23.00</td>\n",
              "      <td>1396.0</td>\n",
              "      <td>90.00</td>\n",
              "      <td>5.0</td>\n",
              "      <td>15</td>\n",
              "    </tr>\n",
              "    <tr>\n",
              "      <th>4</th>\n",
              "      <td>120000</td>\n",
              "      <td>3</td>\n",
              "      <td>1</td>\n",
              "      <td>1</td>\n",
              "      <td>0</td>\n",
              "      <td>16.10</td>\n",
              "      <td>1298.0</td>\n",
              "      <td>88.20</td>\n",
              "      <td>5.0</td>\n",
              "      <td>18</td>\n",
              "    </tr>\n",
              "    <tr>\n",
              "      <th>...</th>\n",
              "      <td>...</td>\n",
              "      <td>...</td>\n",
              "      <td>...</td>\n",
              "      <td>...</td>\n",
              "      <td>...</td>\n",
              "      <td>...</td>\n",
              "      <td>...</td>\n",
              "      <td>...</td>\n",
              "      <td>...</td>\n",
              "      <td>...</td>\n",
              "    </tr>\n",
              "    <tr>\n",
              "      <th>8123</th>\n",
              "      <td>110000</td>\n",
              "      <td>3</td>\n",
              "      <td>1</td>\n",
              "      <td>1</td>\n",
              "      <td>0</td>\n",
              "      <td>18.50</td>\n",
              "      <td>1197.0</td>\n",
              "      <td>82.85</td>\n",
              "      <td>5.0</td>\n",
              "      <td>12</td>\n",
              "    </tr>\n",
              "    <tr>\n",
              "      <th>8124</th>\n",
              "      <td>119000</td>\n",
              "      <td>1</td>\n",
              "      <td>1</td>\n",
              "      <td>1</td>\n",
              "      <td>1</td>\n",
              "      <td>16.80</td>\n",
              "      <td>1493.0</td>\n",
              "      <td>110.00</td>\n",
              "      <td>5.0</td>\n",
              "      <td>18</td>\n",
              "    </tr>\n",
              "    <tr>\n",
              "      <th>8125</th>\n",
              "      <td>120000</td>\n",
              "      <td>1</td>\n",
              "      <td>1</td>\n",
              "      <td>1</td>\n",
              "      <td>0</td>\n",
              "      <td>19.30</td>\n",
              "      <td>1248.0</td>\n",
              "      <td>73.90</td>\n",
              "      <td>5.0</td>\n",
              "      <td>16</td>\n",
              "    </tr>\n",
              "    <tr>\n",
              "      <th>8126</th>\n",
              "      <td>25000</td>\n",
              "      <td>1</td>\n",
              "      <td>1</td>\n",
              "      <td>1</td>\n",
              "      <td>0</td>\n",
              "      <td>23.57</td>\n",
              "      <td>1396.0</td>\n",
              "      <td>70.00</td>\n",
              "      <td>5.0</td>\n",
              "      <td>12</td>\n",
              "    </tr>\n",
              "    <tr>\n",
              "      <th>8127</th>\n",
              "      <td>25000</td>\n",
              "      <td>1</td>\n",
              "      <td>1</td>\n",
              "      <td>1</td>\n",
              "      <td>0</td>\n",
              "      <td>23.57</td>\n",
              "      <td>1396.0</td>\n",
              "      <td>70.00</td>\n",
              "      <td>5.0</td>\n",
              "      <td>12</td>\n",
              "    </tr>\n",
              "  </tbody>\n",
              "</table>\n",
              "<p>8128 rows × 10 columns</p>\n",
              "</div>"
            ],
            "text/plain": [
              "      km_driven  fuel  seller_type  transmission  owner  mileage(km/ltr/kg)  \\\n",
              "0        145500     1            1             1      0               23.40   \n",
              "1        120000     1            1             1      2               21.14   \n",
              "2        140000     3            1             1      4               17.70   \n",
              "3        127000     1            1             1      0               23.00   \n",
              "4        120000     3            1             1      0               16.10   \n",
              "...         ...   ...          ...           ...    ...                 ...   \n",
              "8123     110000     3            1             1      0               18.50   \n",
              "8124     119000     1            1             1      1               16.80   \n",
              "8125     120000     1            1             1      0               19.30   \n",
              "8126      25000     1            1             1      0               23.57   \n",
              "8127      25000     1            1             1      0               23.57   \n",
              "\n",
              "      engine  max_power  seats  car_age  \n",
              "0     1248.0      74.00    5.0       11  \n",
              "1     1498.0     103.52    5.0       11  \n",
              "2     1497.0      78.00    5.0       19  \n",
              "3     1396.0      90.00    5.0       15  \n",
              "4     1298.0      88.20    5.0       18  \n",
              "...      ...        ...    ...      ...  \n",
              "8123  1197.0      82.85    5.0       12  \n",
              "8124  1493.0     110.00    5.0       18  \n",
              "8125  1248.0      73.90    5.0       16  \n",
              "8126  1396.0      70.00    5.0       12  \n",
              "8127  1396.0      70.00    5.0       12  \n",
              "\n",
              "[8128 rows x 10 columns]"
            ]
          },
          "execution_count": 26,
          "metadata": {},
          "output_type": "execute_result"
        }
      ],
      "source": [
        "x"
      ]
    },
    {
      "cell_type": "code",
      "execution_count": 27,
      "metadata": {
        "id": "nPgURP6pJGu3"
      },
      "outputs": [],
      "source": [
        "from sklearn.preprocessing import StandardScaler\n",
        "scaler = StandardScaler()\n",
        "y = scaler.fit_transform(y.values.reshape(-1, 1))"
      ]
    },
    {
      "cell_type": "code",
      "execution_count": 28,
      "metadata": {
        "id": "2ESLU02yJWn4"
      },
      "outputs": [],
      "source": [
        "x_train,x_test,y_train,y_test=train_test_split(x,y,test_size=0.2,random_state=42)"
      ]
    },
    {
      "cell_type": "code",
      "execution_count": 29,
      "metadata": {
        "id": "ODKdX8mLJrtO"
      },
      "outputs": [],
      "source": [
        "from sklearn.ensemble import RandomForestRegressor, RandomForestClassifier\n",
        "from sklearn.linear_model import LinearRegression\n",
        "from sklearn.tree import DecisionTreeRegressor\n",
        "from sklearn.neighbors import KNeighborsRegressor\n",
        "from sklearn.metrics import mean_squared_error, r2_score, classification_report, confusion_matrix"
      ]
    },
    {
      "cell_type": "markdown",
      "metadata": {
        "id": "Xi7pPO9CCFpJ"
      },
      "source": [
        "## 5. Model Selection and Training\n",
        "\n",
        "- Four regression models were chosen and trained:\n",
        "    - Linear Regression\n",
        "    - Random Forest Regressor\n",
        "    - Decision Tree Regressor\n",
        "    - K-Nearest Neighbors Regressor\n",
        "    "
      ]
    },
    {
      "cell_type": "code",
      "execution_count": 30,
      "metadata": {
        "id": "d0PbgI3BMn_P"
      },
      "outputs": [],
      "source": [
        "linear_regressor = LinearRegression()\n",
        "rfr = RandomForestRegressor(n_estimators=100, random_state=42)\n",
        "dtr = DecisionTreeRegressor(random_state=42)\n",
        "knn = KNeighborsRegressor(n_neighbors=5) \n",
        "\n"
      ]
    },
    {
      "cell_type": "code",
      "execution_count": 31,
      "metadata": {
        "id": "UTxSH0I0Nmyd"
      },
      "outputs": [],
      "source": [
        "linear_regressor.fit(x_train, y_train)\n",
        "y_pred_linear_reg = linear_regressor.predict(x_test)"
      ]
    },
    {
      "cell_type": "code",
      "execution_count": 32,
      "metadata": {
        "colab": {
          "base_uri": "https://localhost:8080/"
        },
        "id": "9MUDKLQC7-iB",
        "outputId": "6b30226f-f92b-4c52-b22c-8d30f40e82c9"
      },
      "outputs": [
        {
          "name": "stderr",
          "output_type": "stream",
          "text": [
            "c:\\Users\\rmcsh\\anaconda3\\Lib\\site-packages\\sklearn\\base.py:1389: DataConversionWarning: A column-vector y was passed when a 1d array was expected. Please change the shape of y to (n_samples,), for example using ravel().\n",
            "  return fit_method(estimator, *args, **kwargs)\n"
          ]
        }
      ],
      "source": [
        "rfr.fit(x_train, y_train)\n",
        "y_pred_rfr = rfr.predict(x_test)"
      ]
    },
    {
      "cell_type": "code",
      "execution_count": 33,
      "metadata": {
        "id": "ubMCdaU28hrA"
      },
      "outputs": [],
      "source": [
        "dtr.fit(x_train, y_train)\n",
        "y_pred_dtr = dtr.predict(x_test)\n",
        "\n",
        "\n",
        "\n",
        "\n"
      ]
    },
    {
      "cell_type": "code",
      "execution_count": 34,
      "metadata": {
        "id": "6uVangtw8v9U"
      },
      "outputs": [],
      "source": [
        "knn.fit(x_train, y_train)\n",
        "y_pred_knn = knn.predict(x_test)"
      ]
    },
    {
      "cell_type": "markdown",
      "metadata": {
        "id": "nLp-rD-bDEUb"
      },
      "source": [
        "## 6. Model Evaluation\n",
        "\n",
        "- Mean Squared Error (MSE) and R-squared score were used to evaluate the performance of each model on the test set.\n",
        "- The results showed that Random Forest Regressor and Decision Tree Regressor performed better in terms of MSE and R-squared compared to Linear Regression and KNN."
      ]
    },
    {
      "cell_type": "code",
      "execution_count": 35,
      "metadata": {
        "colab": {
          "base_uri": "https://localhost:8080/"
        },
        "id": "BrFjfDDj8lvp",
        "outputId": "f0e6f853-8e7e-48f0-9a17-7fc3f35a874f"
      },
      "outputs": [
        {
          "name": "stdout",
          "output_type": "stream",
          "text": [
            "Linear Regression:\n",
            "0.31598787728637967\n",
            "\n",
            "Random Forest Regression:\n",
            "0.03166609932591399\n",
            "\n",
            "Decision Tree Regression:\n",
            "0.058100889391455385\n",
            "\n",
            "K-Nearest Neighbors Regression:\n",
            "0.19827216631059577\n"
          ]
        }
      ],
      "source": [
        "print(\"Linear Regression:\")\n",
        "print(mean_squared_error(y_test, y_pred_linear_reg))\n",
        "\n",
        "print(\"\\nRandom Forest Regression:\")\n",
        "print( mean_squared_error(y_test, y_pred_rfr))\n",
        "\n",
        "print(\"\\nDecision Tree Regression:\")\n",
        "print(mean_squared_error(y_test, y_pred_dtr))\n",
        "\n",
        "print(\"\\nK-Nearest Neighbors Regression:\")\n",
        "print(mean_squared_error(y_test, y_pred_knn))"
      ]
    },
    {
      "cell_type": "code",
      "execution_count": 36,
      "metadata": {
        "colab": {
          "base_uri": "https://localhost:8080/"
        },
        "id": "VE5gBRyH9wH6",
        "outputId": "3d100d4f-5ec5-4d7f-aae5-dc1c057224be"
      },
      "outputs": [
        {
          "name": "stdout",
          "output_type": "stream",
          "text": [
            "\n",
            " linear regression: \n",
            "0.686673071676952\n",
            "\n",
            " random forest regression: \n",
            "0.9686005624045855\n",
            "\n",
            " decision tree regression: \n",
            "0.9423883809651246\n",
            "\n",
            " knn regression: \n",
            "0.8033974930444798\n"
          ]
        }
      ],
      "source": [
        "print(\"\\n linear regression: \")\n",
        "print(r2_score(y_test, y_pred_linear_reg))\n",
        "\n",
        "print(\"\\n random forest regression: \")\n",
        "print(r2_score(y_test, y_pred_rfr))\n",
        "\n",
        "print(\"\\n decision tree regression: \")\n",
        "print(r2_score(y_test, y_pred_dtr))\n",
        "\n",
        "print(\"\\n knn regression: \")\n",
        "print(r2_score(y_test, y_pred_knn))"
      ]
    },
    {
      "cell_type": "markdown",
      "metadata": {
        "id": "q2xPmg8zDVd_"
      },
      "source": [
        "# random forest regression outperforms decision tree as well\n"
      ]
    },
    {
      "cell_type": "code",
      "execution_count": 37,
      "metadata": {},
      "outputs": [],
      "source": [
        "import pickle\n",
        "\n",
        "filename = 'car_price_model.pkl'\n",
        "pickle.dump(rfr, open(filename, 'wb'))"
      ]
    },
    {
      "cell_type": "markdown",
      "metadata": {
        "id": "MyBjUbErDBTO"
      },
      "source": [
        "## 7. Feature Importance\n",
        "\n",
        "- Feature importance was calculated for the Random Forest and Decision Tree models.\n",
        "- Features with importance greater than the mean importance were identified for both models. This helps in understanding which features contribute most to the predictions."
      ]
    },
    {
      "cell_type": "code",
      "execution_count": 38,
      "metadata": {
        "colab": {
          "base_uri": "https://localhost:8080/"
        },
        "id": "jpvo7byf__Au",
        "outputId": "5dfc64a4-dfff-4e19-f19b-c8fb34aa19e1"
      },
      "outputs": [
        {
          "name": "stdout",
          "output_type": "stream",
          "text": [
            "decision tree ['max_power', 'car_age']\n",
            "random forest ['max_power', 'car_age']\n"
          ]
        }
      ],
      "source": [
        "importances = rfr.feature_importances_\n",
        "feature_names = x.columns\n",
        "feature_importance_df = pd.DataFrame({'feature': feature_names, 'importance': importances})\n",
        "feature_importance_df = feature_importance_df.sort_values('importance', ascending=False)\n",
        "\n",
        "mean_importance = feature_importance_df['importance'].mean()\n",
        "important_features_rfr = feature_importance_df[feature_importance_df['importance'] > mean_importance]['feature'].tolist()\n",
        "\n",
        "\n",
        "importances = dtr.feature_importances_\n",
        "feature_names = x.columns\n",
        "feature_importance_df = pd.DataFrame({'feature': feature_names, 'importance': importances})\n",
        "feature_importance_df = feature_importance_df.sort_values('importance', ascending=False)\n",
        "\n",
        "\n",
        "mean_importance = feature_importance_df['importance'].mean()\n",
        "important_features_dtr = feature_importance_df[feature_importance_df['importance'] > mean_importance]['feature'].tolist()\n",
        "\n",
        "print(\"decision tree\", important_features_dtr)\n",
        "print(\"random forest\", important_features_rfr)"
      ]
    },
    {
      "cell_type": "markdown",
      "metadata": {
        "id": "6snlfiIkDk5T"
      },
      "source": [
        "## 8. Prediction on Sample Data\n",
        "\n",
        "- The trained Random Forest model was used to predict selling prices for the first 10 rows of the dataset.\n",
        "- The predictions were compared with the actual selling prices after inverse transforming the scaled predictions.\n",
        "- R-squared accuracy was also calculated for this subset.\n",
        "- A similar prediction and evaluation were performed on a random sample of 10 rows from the dataset."
      ]
    },
    {
      "cell_type": "code",
      "execution_count": 39,
      "metadata": {
        "colab": {
          "base_uri": "https://localhost:8080/"
        },
        "id": "3w-ouPAt7JxO",
        "outputId": "f759fa49-58ba-41d0-9b0b-3d986105485c"
      },
      "outputs": [
        {
          "name": "stdout",
          "output_type": "stream",
          "text": [
            "\n",
            "Predictions for the first 10 rows:\n",
            "Actual Price: 220,000.00, Predicted Price: 221,450.00\n",
            "Actual Price: 800,000.00, Predicted Price: 790,814.98\n",
            "Actual Price: 1,576,000.00, Predicted Price: 1,560,610.00\n",
            "Actual Price: 254,999.00, Predicted Price: 231,031.32\n",
            "Actual Price: 200,000.00, Predicted Price: 219,499.99\n",
            "Actual Price: 509,999.00, Predicted Price: 460,179.43\n",
            "Actual Price: 120,000.00, Predicted Price: 126,700.00\n",
            "Actual Price: 500,000.00, Predicted Price: 509,429.99\n",
            "Actual Price: 160,000.00, Predicted Price: 151,560.00\n",
            "Actual Price: 130,000.00, Predicted Price: 144,250.00\n",
            "Actual Price: 580,000.00, Predicted Price: 574,300.00\n",
            "Actual Price: 380,000.00, Predicted Price: 356,030.00\n",
            "Actual Price: 795,000.00, Predicted Price: 707,699.99\n",
            "Actual Price: 625,000.00, Predicted Price: 625,000.00\n",
            "Actual Price: 450,000.00, Predicted Price: 449,949.95\n",
            "Actual Price: 425,000.00, Predicted Price: 294,739.99\n",
            "Actual Price: 725,000.00, Predicted Price: 758,100.00\n",
            "Actual Price: 400,000.00, Predicted Price: 433,250.00\n",
            "Actual Price: 65,000.00, Predicted Price: 69,250.00\n",
            "Actual Price: 480,000.00, Predicted Price: 507,799.99\n",
            "Actual Price: 645,000.00, Predicted Price: 645,000.00\n",
            "Actual Price: 737,000.00, Predicted Price: 791,130.00\n",
            "Actual Price: 700,000.00, Predicted Price: 661,177.50\n",
            "Actual Price: 150,000.00, Predicted Price: 225,849.83\n",
            "Actual Price: 125,000.00, Predicted Price: 118,299.83\n",
            "Actual Price: 459,999.00, Predicted Price: 471,774.31\n",
            "Actual Price: 200,000.00, Predicted Price: 235,249.98\n",
            "Actual Price: 210,000.00, Predicted Price: 211,600.00\n",
            "Actual Price: 120,000.00, Predicted Price: 166,510.00\n",
            "Actual Price: 725,000.00, Predicted Price: 683,290.00\n",
            "Actual Price: 500,000.00, Predicted Price: 533,520.00\n",
            "Actual Price: 535,000.00, Predicted Price: 579,636.67\n",
            "Actual Price: 400,000.00, Predicted Price: 593,970.00\n",
            "Actual Price: 275,000.00, Predicted Price: 283,800.00\n",
            "Actual Price: 395,000.00, Predicted Price: 324,356.79\n",
            "Actual Price: 290,000.00, Predicted Price: 391,500.00\n",
            "Actual Price: 337,000.00, Predicted Price: 319,999.95\n",
            "Actual Price: 262,000.00, Predicted Price: 258,720.00\n",
            "Actual Price: 1,350,000.00, Predicted Price: 1,407,835.00\n",
            "Actual Price: 325,000.00, Predicted Price: 323,390.00\n",
            "Actual Price: 465,000.00, Predicted Price: 457,813.31\n",
            "Actual Price: 66,000.00, Predicted Price: 115,475.00\n",
            "Actual Price: 377,000.00, Predicted Price: 480,649.66\n",
            "Actual Price: 600,000.00, Predicted Price: 612,440.00\n",
            "Actual Price: 150,000.00, Predicted Price: 159,660.00\n",
            "Actual Price: 450,000.00, Predicted Price: 455,649.93\n",
            "Actual Price: 560,000.00, Predicted Price: 530,870.51\n",
            "Actual Price: 400,000.00, Predicted Price: 401,116.65\n",
            "Actual Price: 225,000.00, Predicted Price: 203,533.32\n",
            "Actual Price: 350,000.00, Predicted Price: 356,030.00\n",
            "Actual Price: 130,000.00, Predicted Price: 129,810.00\n",
            "Actual Price: 2,711,000.00, Predicted Price: 2,674,283.93\n",
            "Actual Price: 225,000.00, Predicted Price: 228,830.00\n",
            "Actual Price: 675,000.00, Predicted Price: 638,963.10\n",
            "Actual Price: 550,000.00, Predicted Price: 543,334.40\n",
            "Actual Price: 175,000.00, Predicted Price: 194,009.99\n",
            "Actual Price: 420,000.00, Predicted Price: 431,179.98\n",
            "Actual Price: 145,000.00, Predicted Price: 164,000.00\n",
            "Actual Price: 3,251,000.00, Predicted Price: 2,982,460.00\n",
            "Actual Price: 500,000.00, Predicted Price: 432,669.69\n",
            "Actual Price: 600,000.00, Predicted Price: 601,199.99\n",
            "Actual Price: 409,999.00, Predicted Price: 405,865.77\n",
            "Actual Price: 380,000.00, Predicted Price: 366,679.99\n",
            "Actual Price: 773,000.00, Predicted Price: 724,393.33\n",
            "Actual Price: 260,000.00, Predicted Price: 252,019.99\n",
            "Actual Price: 260,000.00, Predicted Price: 219,369.84\n",
            "Actual Price: 850,000.00, Predicted Price: 886,657.17\n",
            "Actual Price: 550,000.00, Predicted Price: 578,249.99\n",
            "Actual Price: 120,000.00, Predicted Price: 140,400.00\n",
            "Actual Price: 919,999.00, Predicted Price: 849,999.45\n",
            "Actual Price: 132,000.00, Predicted Price: 144,969.99\n",
            "Actual Price: 65,000.00, Predicted Price: 69,959.57\n",
            "Actual Price: 250,000.00, Predicted Price: 260,519.99\n",
            "Actual Price: 200,000.00, Predicted Price: 208,310.00\n",
            "Actual Price: 650,000.00, Predicted Price: 628,010.00\n",
            "Actual Price: 429,000.00, Predicted Price: 445,979.99\n",
            "Actual Price: 72,000.00, Predicted Price: 85,843.33\n",
            "Actual Price: 310,000.00, Predicted Price: 305,597.50\n",
            "Actual Price: 345,000.00, Predicted Price: 373,500.00\n",
            "Actual Price: 520,000.00, Predicted Price: 518,844.05\n",
            "Actual Price: 725,000.00, Predicted Price: 738,428.33\n",
            "Actual Price: 180,000.00, Predicted Price: 181,419.98\n",
            "Actual Price: 1,051,000.00, Predicted Price: 1,187,590.00\n",
            "Actual Price: 450,000.00, Predicted Price: 427,599.99\n",
            "Actual Price: 580,000.00, Predicted Price: 641,343.33\n",
            "Actual Price: 254,999.00, Predicted Price: 252,319.04\n",
            "Actual Price: 560,000.00, Predicted Price: 561,900.00\n",
            "Actual Price: 140,000.00, Predicted Price: 153,109.99\n",
            "Actual Price: 830,000.00, Predicted Price: 764,639.29\n",
            "Actual Price: 250,000.00, Predicted Price: 220,163.33\n",
            "Actual Price: 391,000.00, Predicted Price: 419,619.99\n",
            "Actual Price: 270,000.00, Predicted Price: 218,308.33\n",
            "Actual Price: 425,000.00, Predicted Price: 416,220.00\n",
            "Actual Price: 631,000.00, Predicted Price: 611,970.00\n",
            "Actual Price: 350,000.00, Predicted Price: 344,989.91\n",
            "Actual Price: 1,282,000.00, Predicted Price: 1,309,390.00\n",
            "Actual Price: 355,000.00, Predicted Price: 233,724.85\n",
            "Actual Price: 450,000.00, Predicted Price: 450,000.00\n",
            "Actual Price: 830,000.00, Predicted Price: 831,999.98\n",
            "Actual Price: 600,000.00, Predicted Price: 600,000.00\n",
            "\n",
            "R-squared accuracy for the first 10 rows: 0.9871 \n"
          ]
        }
      ],
      "source": [
        "df_head = df.sample(n=100, random_state=700).copy()\n",
        "df_x_head = df_head.drop(['selling_price'], axis=1)\n",
        "df_y_head = df_head['selling_price']\n",
        "\n",
        "df_y_head_scaled = scaler.transform(df_y_head.values.reshape(-1, 1))\n",
        "y_pred_head_scaled = rfr.predict(df_x_head)\n",
        "y_pred_head = scaler.inverse_transform(y_pred_head_scaled.reshape(-1, 1))\n",
        "r2_subset = r2_score(df_y_head_scaled, y_pred_head_scaled)\n",
        "\n",
        "print(\"\\nPredictions for the first 10 rows:\")\n",
        "for i in range(len(df_head)):\n",
        "    print(f\"Actual Price: {df_y_head.iloc[i]:,.2f}, Predicted Price: {y_pred_head[i][0]:,.2f}\")\n",
        "print(f\"\\nR-squared accuracy for the first 10 rows: {r2_subset:.4f} \")"
      ]
    },
    {
      "cell_type": "markdown",
      "metadata": {
        "id": "kMzWMpdZ9RoY"
      },
      "source": [
        "## Conclusion\n",
        "\n",
        "This project successfully addressed the challenge of predicting used car selling prices by following a structured machine learning workflow while solving potential challenges with the assistance of a Large Language Model (LLM), gemini in particular.\n",
        "\n",
        "\n",
        "1.  Four regression models—Linear Regression, Random Forest Regressor, Decision Tree Regressor, and K-Nearest Neighbors Regressor—were trained and evaluated using Mean Squared Error (MSE) and R-squared scores.\n",
        "\n",
        "2. The Random Forest and Decision Tree models demonstrated superior performance. Feature importance analysis further illuminated the most influential factors in predicting car prices.\n",
        "\n",
        "3. Finally, the trained Random Forest model was used to make predictions on sample data, providing a tangible demonstration of its predictive capability.\n",
        "\n",
        "4. Promising results were achieved by R-squared accuracy for the first 10 randomized rows: 0.9977 and 0.98 for randomized 100 rows\n",
        "."
      ]
    },
    {
      "cell_type": "code",
      "execution_count": null,
      "metadata": {
        "colab": {
          "base_uri": "https://localhost:8080/"
        },
        "id": "Gg1w6eYNGcGh",
        "outputId": "fd7e4178-e366-4be1-8f0b-7ec59bb0a73d"
      },
      "outputs": [
        {
          "name": "stdout",
          "output_type": "stream",
          "text": [
            "Okay, here's a comprehensive conclusion for the car price prediction project, based on the information you've provided:\n",
            "\n",
            "**Conclusion: Car Price Prediction Project**\n",
            "\n",
            "This project aimed to develop a predictive model for used car prices using a dataset of 8128 car listings with 11 features. The goal was to accurately estimate the selling price based on various car attributes.\n",
            "\n",
            "The dataset underwent cleaning and preprocessing to ensure data quality and suitability for modeling. While the specifics of the cleaning process weren't detailed, it's assumed that missing values were handled, and categorical features were encoded appropriately. *[If an LLM was used for cleaning, this is where you'd mention it, e.g., \"An LLM was utilized to standardize textual data within the dataset, improving consistency and accuracy.\"]*\n",
            "\n",
            "Several regression models were trained and evaluated, including Linear Regression, Random Forest Regression, Decision Tree Regression, and KNN Regression. The performance of these models, as measured by the R-squared score on the test set, varied significantly:\n",
            "\n",
            "*   **Linear Regression:** R-squared = 0.6867\n",
            "*   **Random Forest Regression:** R-squared = 0.9686\n",
            "*   **Decision Tree Regression:** R-squared = 0.9424\n",
            "*   **KNN Regression:** R-squared = 0.8034\n",
            "\n",
            "The **Random Forest Regression** model emerged as the best performer, achieving a high R-squared score of 0.9686. This indicates that the model explains approximately 96.86% of the variance in the car prices. The superior performance of Random Forest is likely due to its ability to capture complex non-linear relationships between the features and the target variable (selling price), which Linear Regression, KNN and Decision Tree struggles to do.\n",
            "\n",
            "Feature importance analysis (though not explicitly detailed in your prompt) would have been a valuable step in this project. By identifying the most influential features (e.g., engine, max_power, car_age, km_driven), we can gain insights into the key factors driving car prices. This information can be useful for both car sellers and buyers in understanding the market dynamics.\n",
            "\n",
            "The project also included sample predictions on the first 10 rows and 100 random rows of the dataset. *[Since you didn't provide the R-squared scores for these samples, I'll make a general statement. If you have those scores, please provide them, and I'll update the conclusion.]*  The R-squared scores for these samples would provide an indication of the model's predictive accuracy on specific subsets of the data. A high R-squared score on these samples would suggest that the model generalizes well to different types of cars.\n",
            "\n",
            "Overall, this car price prediction project was successful in developing a highly accurate model using Random Forest Regression. The model's ability to capture non-linear relationships and the potential for feature importance analysis contribute to a deeper understanding of the factors influencing used car prices. The project demonstrates the value of machine learning in providing data-driven insights for the automotive market.\n"
          ]
        }
      ],
      "source": [
        "# llm \n",
        "human_prompt = f\"\"\"\n",
        "Based on the provided dataset (`{df}`), the features (`{x}`), and the train/test R-squared accuracies (linear regression: {r2_score(y_test, y_pred_linear_reg)}, random forest regression: {r2_score(y_test, y_pred_rfr)}, decision tree regression: {r2_score(y_test, y_pred_dtr)}, knn regression: {r2_score(y_test, y_pred_knn)}), write a comprehensive conclusion for this car price prediction project.\n",
        "\n",
        "Your conclusion should:\n",
        "1.  Summarize the project goal and the dataset used.\n",
        "2.  Briefly touch upon the data cleaning and preprocessing steps, including the use of the LLM if relevant to the cleaning process.\n",
        "3.  Discuss the models trained and their performance based on the provided R-squared scores.\n",
        "4.  Highlight the best performing model and mention why it likely performed well (e.g., its ability to capture non-linear relationships).\n",
        "5.  Mention the feature importance analysis and its value in understanding the key drivers of car price.\n",
        "6.  Include the results from the sample predictions (first 10 rows and the 100 random rows) and interpret the R-squared scores for those samples.\n",
        "7.  Overall, provide a clear and concise summary of the project's success and key takeaways.\n",
        "\"\"\"\n",
        "print(ask_llm(human_prompt))"
      ]
    },
    {
      "cell_type": "code",
      "execution_count": null,
      "metadata": {},
      "outputs": [],
      "source": []
    }
  ],
  "metadata": {
    "colab": {
      "provenance": []
    },
    "kernelspec": {
      "display_name": "base",
      "language": "python",
      "name": "python3"
    },
    "language_info": {
      "codemirror_mode": {
        "name": "ipython",
        "version": 3
      },
      "file_extension": ".py",
      "mimetype": "text/x-python",
      "name": "python",
      "nbconvert_exporter": "python",
      "pygments_lexer": "ipython3",
      "version": "3.12.3"
    }
  },
  "nbformat": 4,
  "nbformat_minor": 0
}
