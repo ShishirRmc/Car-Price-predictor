{
  "cells": [
    {
      "cell_type": "markdown",
      "metadata": {
        "id": "Jl2w05-J9bDu"
      },
      "source": [
        "# Car Price Prediction Report\n",
        "\n",
        "This report summarizes the process and findings of building a model to predict car selling prices based on a given dataset.\n",
        "\n"
      ]
    },
    {
      "cell_type": "code",
      "execution_count": null,
      "metadata": {
        "colab": {
          "base_uri": "https://localhost:8080/",
          "height": 1000
        },
        "collapsed": true,
        "id": "yN5n10dautCG",
        "outputId": "949cfa8e-23ea-4b1c-b8ab-c396c8dfe117"
      },
      "outputs": [],
      "source": [
        "!pip install -U langchain-google-genai"
      ]
    },
    {
      "cell_type": "code",
      "execution_count": null,
      "metadata": {
        "id": "ouXrD2fGptlK"
      },
      "outputs": [],
      "source": [
        "import pandas as pd\n",
        "import numpy as np\n",
        "import sklearn"
      ]
    },
    {
      "cell_type": "markdown",
      "metadata": {
        "id": "rMfUI8ne92Ln"
      },
      "source": [
        "## 1. Data Loading and Exploration\n",
        "\n",
        "- The dataset was loaded using pandas from a CSV file named `car.csv`.\n",
        "- Initial exploration was performed using `df.head()`, `df.info()`, `df.isnull().sum()`, and `df.describe()`."
      ]
    },
    {
      "cell_type": "code",
      "execution_count": null,
      "metadata": {
        "id": "e0ZVkrvwrBKu"
      },
      "outputs": [],
      "source": [
        "df = pd.read_csv('car.csv')"
      ]
    },
    {
      "cell_type": "markdown",
      "metadata": {
        "id": "I0lbg3huz20C"
      },
      "source": [
        "## **setup my LLM**"
      ]
    },
    {
      "cell_type": "code",
      "execution_count": null,
      "metadata": {
        "collapsed": true,
        "id": "YeqdvK6TsHyJ"
      },
      "outputs": [],
      "source": [
        "from langchain.schema import SystemMessage, HumanMessage, AIMessage\n",
        "from langchain.chat_models import init_chat_model\n",
        "import os\n",
        "from dotenv import load_dotenv\n",
        "\n",
        "#importing gemini\n",
        "load_dotenv()\n",
        "api_key = os.environ.get(\"gemini_api_key\")\n",
        "\n",
        "model = init_chat_model(\n",
        "    \"google_genai:gemini-2.0-flash\",\n",
        "    temperature=0,\n",
        "    api_key=api_key\n",
        ")\n",
        "\n",
        "system_prompt = \"\"\"\n",
        "You are a Machine learning Engineer and you're currently assistanting me on the task.\n",
        "YOU'll do exactly what human message says.\"\"\"\n",
        "system_prompt = SystemMessage(content=system_prompt)\n",
        "\n",
        "conversation = [system_prompt]\n",
        "\n",
        "def ask_llm(user_input: str):\n",
        "    global conversation\n",
        "    conversation.append(HumanMessage(content=user_input))\n",
        "    response = model(conversation)\n",
        "\n",
        "    conversation.append(response)\n",
        "\n",
        "    return response.content\n",
        "\n",
        "# human message in each cells\n"
      ]
    },
    {
      "cell_type": "markdown",
      "metadata": {
        "id": "FWUjhvvG-Rz3"
      },
      "source": [
        "\n",
        "## 2. Understanding the Dataset with **LLM**\n",
        "\n",
        "To get a better understanding of the dataset columns and their potential relevance for car price prediction, we utilized a Large Language Model (LLM).\n",
        "\n",
        "- A human message containing the column names and a request to explain the dataset was passed to the LLM.\n",
        "- The LLM's response provided insights into the meaning of each column and how they might influence the car selling price.\n",
        "\n",
        "This process helped in identifying important features and potential preprocessing steps before model building."
      ]
    },
    {
      "cell_type": "code",
      "execution_count": null,
      "metadata": {
        "colab": {
          "base_uri": "https://localhost:8080/"
        },
        "id": "lnoVLsFyxhok",
        "outputId": "a399498d-ccb9-4d7f-d700-8ad7f400913f"
      },
      "outputs": [],
      "source": [
        "human_prompt = f\"\"\" {df} Explain what each column in this car dataset likely means based on its name and data type in sorted format and tell me the best ways to clean up messy parts\n",
        "\"\"\"\n",
        "print(ask_llm(human_prompt))"
      ]
    },
    {
      "cell_type": "code",
      "execution_count": null,
      "metadata": {
        "colab": {
          "base_uri": "https://localhost:8080/",
          "height": 223
        },
        "id": "P_m_Z9YRrEyQ",
        "outputId": "52a75a68-19dc-4bfa-cc0d-ab104947865d"
      },
      "outputs": [],
      "source": [
        "df.head()"
      ]
    },
    {
      "cell_type": "code",
      "execution_count": null,
      "metadata": {
        "colab": {
          "base_uri": "https://localhost:8080/"
        },
        "id": "UQCJ9GESrHk_",
        "outputId": "c8565118-fcd4-427b-b9f6-249a67760686"
      },
      "outputs": [],
      "source": [
        "df.info()"
      ]
    },
    {
      "cell_type": "code",
      "execution_count": null,
      "metadata": {
        "colab": {
          "base_uri": "https://localhost:8080/",
          "height": 460
        },
        "id": "cQ4nKjdYrWZZ",
        "outputId": "2434dca5-9ed5-4d4f-e9a4-e855c79f2369"
      },
      "outputs": [],
      "source": [
        "df.isnull().sum()"
      ]
    },
    {
      "cell_type": "code",
      "execution_count": null,
      "metadata": {
        "colab": {
          "base_uri": "https://localhost:8080/",
          "height": 300
        },
        "id": "iP_Jiu0RrbOy",
        "outputId": "d274b2aa-1b9c-4722-8fd8-56b2d3bcee0d"
      },
      "outputs": [],
      "source": [
        "df.describe()"
      ]
    },
    {
      "cell_type": "code",
      "execution_count": null,
      "metadata": {
        "colab": {
          "base_uri": "https://localhost:8080/",
          "height": 446
        },
        "id": "2cxIWBNO08tA",
        "outputId": "0fe04c5b-a027-419b-ad7f-d3d7fca64058"
      },
      "outputs": [],
      "source": [
        "df.describe(include='all')"
      ]
    },
    {
      "cell_type": "code",
      "execution_count": null,
      "metadata": {
        "colab": {
          "base_uri": "https://localhost:8080/",
          "height": 460
        },
        "id": "qa-98ohPAdCC",
        "outputId": "5f415e4c-46b5-407b-8d95-9bc5631a2529"
      },
      "outputs": [],
      "source": [
        "df.isnull().sum()"
      ]
    },
    {
      "cell_type": "markdown",
      "metadata": {
        "id": "tVFuE55K_TdE"
      },
      "source": [
        "During the data cleaning phase, the Large Language Model (LLM) played a crucial role in providing insights and recommendations. By analyzing the dataset's columns and their characteristics, the LLM suggested the best approaches for handling missing values and data inconsistencies. This assistance significantly streamlined the data cleaning process, leading to a more refined and reliable dataset for subsequent modeling steps."
      ]
    },
    {
      "cell_type": "code",
      "execution_count": null,
      "metadata": {
        "colab": {
          "base_uri": "https://localhost:8080/"
        },
        "collapsed": true,
        "id": "J81aEDPP6v3g",
        "outputId": "a82e5b53-5a13-4a43-e86e-4361e8a65d48"
      },
      "outputs": [],
      "source": [
        "human_prompt = f\"\"\" use {df} if needed to tell me if i missed something on data cleaning\n",
        "\"\"\"\n",
        "print(ask_llm(human_prompt))"
      ]
    },
    {
      "cell_type": "markdown",
      "metadata": {
        "id": "iU1Bt0K5_Dcg"
      },
      "source": [
        "## 3. Data Cleaning\n",
        "\n",
        "- Missing values in 'engine', 'seats', and 'mileage(km/ltr/kg)' were imputed with the median of their respective columns.\n",
        "- Missing values in 'max_power' were imputed with the mean of the column after converting it to a numeric type (handling potential errors by coercing to NaN).\n",
        "- A new feature, 'car_age', was created by subtracting the 'year' from 2025."
      ]
    },
    {
      "cell_type": "code",
      "execution_count": null,
      "metadata": {
        "id": "EKaAdc1E7ERz"
      },
      "outputs": [],
      "source": [
        "df['car_age'] = 2025- df['year'] # new feature add vayo"
      ]
    },
    {
      "cell_type": "code",
      "execution_count": null,
      "metadata": {
        "id": "UkSrBjbVziIW"
      },
      "outputs": [],
      "source": [
        "nulls =['engine', 'seats', 'mileage(km/ltr/kg)']\n",
        "df['max_power'] = pd.to_numeric(df['max_power'], errors='coerce')\n",
        "nulls2 =['max_power']\n",
        "df.fillna(df[nulls].median(), inplace=True)\n",
        "df.fillna(df[nulls2].mean(), inplace=True)"
      ]
    },
    {
      "cell_type": "code",
      "execution_count": null,
      "metadata": {
        "colab": {
          "base_uri": "https://localhost:8080/",
          "height": 491
        },
        "id": "0X0oauS-x8Qy",
        "outputId": "84a6b971-432a-4707-ffd1-089b476925fb"
      },
      "outputs": [],
      "source": [
        "df.isnull().sum()"
      ]
    },
    {
      "cell_type": "markdown",
      "metadata": {
        "id": "t8UcUNwqAtPG"
      },
      "source": [
        "## 4. Exploratory Data Analysis (EDA)\n",
        "\n",
        "- Visualizations were generated to understand the relationships between different features and the selling price:\n",
        "    - Histogram of selling price distribution.\n",
        "    - Scatter plots of selling price vs. 'km_driven' and 'car_age'.\n",
        "    - Box plots showing selling price by 'fuel' type and 'transmission'.\n",
        "    - A heatmap of the correlation matrix for numerical features was plotted."
      ]
    },
    {
      "cell_type": "code",
      "execution_count": null,
      "metadata": {
        "colab": {
          "base_uri": "https://localhost:8080/",
          "height": 831
        },
        "id": "uTrAjeg47gM4",
        "outputId": "430cf79a-2a82-4cc6-ff6d-80b636b2c47a"
      },
      "outputs": [],
      "source": [
        "import matplotlib.pyplot as plt\n",
        "import seaborn as sns\n",
        "\n",
        "plt.figure(figsize=(15, 10))\n",
        "\n",
        "plt.subplot(2, 3, 1)\n",
        "plt.hist(df['selling_price'], bins=30, edgecolor='black')\n",
        "plt.title('Selling Price Distribution')\n",
        "plt.xlabel('Price')\n",
        "\n",
        "plt.subplot(2, 3, 2)\n",
        "plt.scatter(df['km_driven'], df['selling_price'], alpha=0.6)\n",
        "plt.title('Price vs KM Driven')\n",
        "plt.xlabel('KM Driven')\n",
        "plt.ylabel('Selling Price')\n",
        "\n",
        "plt.subplot(2, 3, 3)\n",
        "plt.scatter(df['car_age'], df['selling_price'], alpha=0.6)\n",
        "plt.title('Price vs Car Age')\n",
        "plt.xlabel('Car Age')\n",
        "plt.ylabel('Selling Price')\n",
        "\n",
        "plt.subplot(2, 3, 4)\n",
        "sns.boxplot(data=df, x='fuel', y='selling_price')\n",
        "plt.title('Price by Fuel Type')\n",
        "plt.xticks(rotation=45)\n",
        "\n",
        "plt.subplot(2, 3, 5)\n",
        "sns.boxplot(data=df, x='transmission', y='selling_price')\n",
        "plt.title('Price by Transmission')\n",
        "\n",
        "plt.subplot(2, 3, 6)\n",
        "correlation_matrix = df.select_dtypes(include=[np.number]).corr()\n",
        "sns.heatmap(correlation_matrix, annot=True, cmap='coolwarm', center=0)\n",
        "plt.title('Correlation Matrix')\n",
        "\n",
        "plt.tight_layout()\n",
        "plt.show()"
      ]
    },
    {
      "cell_type": "code",
      "execution_count": null,
      "metadata": {
        "colab": {
          "base_uri": "https://localhost:8080/"
        },
        "id": "TYC_ysIOPV3K",
        "outputId": "72065dde-d2db-44e9-c550-4e10f09d83c2"
      },
      "outputs": [],
      "source": [
        "human_prompt = f\"\"\" Interpret the findings from the following visualizations and tell me what insights I can gain about the relationships between features and the selling price:\n",
        "- Selling Price Distribution histogram\n",
        "- Selling Price vs KM Driven scatter plot\n",
        "- Selling Price vs Car Age scatter plot\n",
        "- Price by Fuel Type box plot\n",
        "- Price by Transmission box plot\n",
        "- Correlation Matrix heatmap\n",
        "\n",
        "Based on these visualizations, recommend potential features that could be most impactful for predicting the selling price and suggest further analysis or preprocessing steps that might be beneficial for building a robust prediction model.\n",
        "\n",
        "Use the current state of the dataframe as context if needed:\n",
        "{df.to_string()}\n",
        "\"\"\"\n",
        "print(ask_llm(human_prompt))"
      ]
    },
    {
      "cell_type": "code",
      "execution_count": null,
      "metadata": {
        "colab": {
          "base_uri": "https://localhost:8080/"
        },
        "id": "Rmj_6itAEVLE",
        "outputId": "c7b0af8d-0d97-4193-d4d6-18469921c9e4"
      },
      "outputs": [],
      "source": [
        "df['seller_type'].unique(),df['fuel'].unique(),df['transmission'].unique()"
      ]
    },
    {
      "cell_type": "markdown",
      "metadata": {
        "id": "D9nW-NJYCO-i"
      },
      "source": [
        "\n",
        "## 5. Feature Engineering and Preprocessing\n",
        "\n",
        "- Categorical features ('fuel', 'seller_type', 'transmission', 'owner') were converted into numerical representations using Label Encoding.\n",
        "- The 'year' and 'name' columns were dropped based on the correlation analysis (though the correlation analysis is shown *after* dropping, indicating this was likely a pre-meditated step or based on an earlier run).\n",
        "- The target variable 'selling_price' was separated from the features.\n",
        "- The target variable 'selling_price' was scaled using `StandardScaler`.\n",
        "- The data was split into training and testing sets (80% train, 20% test)."
      ]
    },
    {
      "cell_type": "code",
      "execution_count": null,
      "metadata": {
        "id": "eQIJWupPPw_T"
      },
      "outputs": [],
      "source": [
        "from sklearn.preprocessing import LabelEncoder\n",
        "\n",
        "le = LabelEncoder()\n",
        "df['fuel'] = le.fit_transform(df['fuel'])\n",
        "df['seller_type'] = le.fit_transform(df['seller_type'])\n",
        "df['transmission'] = le.fit_transform(df['transmission'])\n",
        "df['owner'] = le.fit_transform(df['owner'])"
      ]
    },
    {
      "cell_type": "code",
      "execution_count": null,
      "metadata": {
        "id": "a354YKpFGZ46"
      },
      "outputs": [],
      "source": [
        "# #yaha batw car model extract garna sakincha\n",
        "\n",
        "# def extract_model_from_name(car_name):\n",
        "#   parts = car_name.split(' ', 1)\n",
        "#   if len(parts) > 1:\n",
        "#     return parts[1]\n",
        "#   return car_name # Return the whole name if only one word\n",
        "\n",
        "# df['model'] = df['name'].apply(extract_model_from_name)\n"
      ]
    },
    {
      "cell_type": "code",
      "execution_count": null,
      "metadata": {
        "colab": {
          "base_uri": "https://localhost:8080/"
        },
        "id": "g2NjoaLOKcYg",
        "outputId": "5340a164-9356-48a4-8095-4b39ff9f3b4d"
      },
      "outputs": [],
      "source": [
        "# prompt: analyze the coerrelation and tell me which columns to drop\n",
        "\n",
        "# Analyze correlation matrix and identify columns to potentially drop\n",
        "correlation_matrix = df.select_dtypes(include=[np.number]).corr()\n",
        "print(\"Correlation Matrix:\")\n",
        "print(correlation_matrix)\n",
        "\n",
        "target_correlation = correlation_matrix['selling_price'].abs().sort_values()\n",
        "print(\"\\nCorrelation with Selling Price\")\n",
        "print(target_correlation)"
      ]
    },
    {
      "cell_type": "code",
      "execution_count": null,
      "metadata": {
        "id": "b63R_4NcKYGX"
      },
      "outputs": [],
      "source": [
        "droping = ['year', 'name']\n",
        "df = df.drop(droping, axis=1)"
      ]
    },
    {
      "cell_type": "code",
      "execution_count": null,
      "metadata": {
        "id": "NjoheBRiF3sC"
      },
      "outputs": [],
      "source": [
        "from sklearn.model_selection import train_test_split\n",
        "x=df.drop(['selling_price'],axis=1)\n",
        "y=df['selling_price']"
      ]
    },
    {
      "cell_type": "code",
      "execution_count": null,
      "metadata": {
        "colab": {
          "base_uri": "https://localhost:8080/",
          "height": 423
        },
        "id": "3qnuRbaTKdKW",
        "outputId": "5b11502d-93ed-4a16-f571-84da82846063"
      },
      "outputs": [],
      "source": [
        "x"
      ]
    },
    {
      "cell_type": "code",
      "execution_count": null,
      "metadata": {
        "id": "nPgURP6pJGu3"
      },
      "outputs": [],
      "source": [
        "from sklearn.preprocessing import StandardScaler\n",
        "scaler = StandardScaler()\n",
        "y = scaler.fit_transform(y.values.reshape(-1, 1))"
      ]
    },
    {
      "cell_type": "code",
      "execution_count": null,
      "metadata": {
        "id": "2ESLU02yJWn4"
      },
      "outputs": [],
      "source": [
        "x_train,x_test,y_train,y_test=train_test_split(x,y,test_size=0.2,random_state=42)"
      ]
    },
    {
      "cell_type": "code",
      "execution_count": null,
      "metadata": {
        "id": "ODKdX8mLJrtO"
      },
      "outputs": [],
      "source": [
        "from sklearn.ensemble import RandomForestRegressor, RandomForestClassifier\n",
        "from sklearn.linear_model import LinearRegression\n",
        "from sklearn.tree import DecisionTreeRegressor\n",
        "from sklearn.neighbors import KNeighborsRegressor\n",
        "from sklearn.metrics import mean_squared_error, r2_score, classification_report, confusion_matrix"
      ]
    },
    {
      "cell_type": "markdown",
      "metadata": {
        "id": "Xi7pPO9CCFpJ"
      },
      "source": [
        "## 5. Model Selection and Training\n",
        "\n",
        "- Four regression models were chosen and trained:\n",
        "    - Linear Regression\n",
        "    - Random Forest Regressor\n",
        "    - Decision Tree Regressor\n",
        "    - K-Nearest Neighbors Regressor\n",
        "    "
      ]
    },
    {
      "cell_type": "code",
      "execution_count": null,
      "metadata": {
        "id": "d0PbgI3BMn_P"
      },
      "outputs": [],
      "source": [
        "linear_regressor = LinearRegression()\n",
        "rfr = RandomForestRegressor(n_estimators=100, random_state=42)\n",
        "dtr = DecisionTreeRegressor(random_state=42)\n",
        "knn = KNeighborsRegressor(n_neighbors=5) \n",
        "\n"
      ]
    },
    {
      "cell_type": "code",
      "execution_count": null,
      "metadata": {
        "id": "UTxSH0I0Nmyd"
      },
      "outputs": [],
      "source": [
        "linear_regressor.fit(x_train, y_train)\n",
        "y_pred_linear_reg = linear_regressor.predict(x_test)"
      ]
    },
    {
      "cell_type": "code",
      "execution_count": null,
      "metadata": {
        "colab": {
          "base_uri": "https://localhost:8080/"
        },
        "id": "9MUDKLQC7-iB",
        "outputId": "6b30226f-f92b-4c52-b22c-8d30f40e82c9"
      },
      "outputs": [],
      "source": [
        "rfr.fit(x_train, y_train)\n",
        "y_pred_rfr = rfr.predict(x_test)"
      ]
    },
    {
      "cell_type": "code",
      "execution_count": null,
      "metadata": {
        "id": "ubMCdaU28hrA"
      },
      "outputs": [],
      "source": [
        "dtr.fit(x_train, y_train)\n",
        "y_pred_dtr = dtr.predict(x_test)\n",
        "\n",
        "\n",
        "\n",
        "\n"
      ]
    },
    {
      "cell_type": "code",
      "execution_count": null,
      "metadata": {
        "id": "6uVangtw8v9U"
      },
      "outputs": [],
      "source": [
        "knn.fit(x_train, y_train)\n",
        "y_pred_knn = knn.predict(x_test)"
      ]
    },
    {
      "cell_type": "markdown",
      "metadata": {
        "id": "nLp-rD-bDEUb"
      },
      "source": [
        "## 6. Model Evaluation\n",
        "\n",
        "- Mean Squared Error (MSE) and R-squared score were used to evaluate the performance of each model on the test set.\n",
        "- The results showed that Random Forest Regressor and Decision Tree Regressor performed better in terms of MSE and R-squared compared to Linear Regression and KNN."
      ]
    },
    {
      "cell_type": "code",
      "execution_count": null,
      "metadata": {
        "colab": {
          "base_uri": "https://localhost:8080/"
        },
        "id": "BrFjfDDj8lvp",
        "outputId": "f0e6f853-8e7e-48f0-9a17-7fc3f35a874f"
      },
      "outputs": [],
      "source": [
        "print(\"Linear Regression:\")\n",
        "print(mean_squared_error(y_test, y_pred_linear_reg))\n",
        "\n",
        "print(\"\\nRandom Forest Regression:\")\n",
        "print( mean_squared_error(y_test, y_pred_rfr))\n",
        "\n",
        "print(\"\\nDecision Tree Regression:\")\n",
        "print(mean_squared_error(y_test, y_pred_dtr))\n",
        "\n",
        "print(\"\\nK-Nearest Neighbors Regression:\")\n",
        "print(mean_squared_error(y_test, y_pred_knn))"
      ]
    },
    {
      "cell_type": "code",
      "execution_count": null,
      "metadata": {
        "colab": {
          "base_uri": "https://localhost:8080/"
        },
        "id": "VE5gBRyH9wH6",
        "outputId": "3d100d4f-5ec5-4d7f-aae5-dc1c057224be"
      },
      "outputs": [],
      "source": [
        "print(\"\\n linear regression: \")\n",
        "print(r2_score(y_test, y_pred_linear_reg))\n",
        "\n",
        "print(\"\\n random forest regression: \")\n",
        "print(r2_score(y_test, y_pred_rfr))\n",
        "\n",
        "print(\"\\n decision tree regression: \")\n",
        "print(r2_score(y_test, y_pred_dtr))\n",
        "\n",
        "print(\"\\n knn regression: \")\n",
        "print(r2_score(y_test, y_pred_knn))"
      ]
    },
    {
      "cell_type": "markdown",
      "metadata": {
        "id": "q2xPmg8zDVd_"
      },
      "source": [
        "# random forest regression outperforms decision tree as well\n"
      ]
    },
    {
      "cell_type": "code",
      "execution_count": null,
      "metadata": {},
      "outputs": [],
      "source": [
        "import pickle\n",
        "\n",
        "filename = 'car_price_model.pkl'\n",
        "pickle.dump(rfr, open(filename, 'wb'))"
      ]
    },
    {
      "cell_type": "markdown",
      "metadata": {
        "id": "MyBjUbErDBTO"
      },
      "source": [
        "## 7. Feature Importance\n",
        "\n",
        "- Feature importance was calculated for the Random Forest and Decision Tree models.\n",
        "- Features with importance greater than the mean importance were identified for both models. This helps in understanding which features contribute most to the predictions."
      ]
    },
    {
      "cell_type": "code",
      "execution_count": null,
      "metadata": {
        "colab": {
          "base_uri": "https://localhost:8080/"
        },
        "id": "jpvo7byf__Au",
        "outputId": "5dfc64a4-dfff-4e19-f19b-c8fb34aa19e1"
      },
      "outputs": [],
      "source": [
        "importances = rfr.feature_importances_\n",
        "feature_names = x.columns\n",
        "feature_importance_df = pd.DataFrame({'feature': feature_names, 'importance': importances})\n",
        "feature_importance_df = feature_importance_df.sort_values('importance', ascending=False)\n",
        "\n",
        "mean_importance = feature_importance_df['importance'].mean()\n",
        "important_features_rfr = feature_importance_df[feature_importance_df['importance'] > mean_importance]['feature'].tolist()\n",
        "\n",
        "\n",
        "importances = dtr.feature_importances_\n",
        "feature_names = x.columns\n",
        "feature_importance_df = pd.DataFrame({'feature': feature_names, 'importance': importances})\n",
        "feature_importance_df = feature_importance_df.sort_values('importance', ascending=False)\n",
        "\n",
        "\n",
        "mean_importance = feature_importance_df['importance'].mean()\n",
        "important_features_dtr = feature_importance_df[feature_importance_df['importance'] > mean_importance]['feature'].tolist()\n",
        "\n",
        "print(\"decision tree\", important_features_dtr)\n",
        "print(\"random forest\", important_features_rfr)"
      ]
    },
    {
      "cell_type": "markdown",
      "metadata": {
        "id": "6snlfiIkDk5T"
      },
      "source": [
        "## 8. Prediction on Sample Data\n",
        "\n",
        "- The trained Random Forest model was used to predict selling prices for the first 10 rows of the dataset.\n",
        "- The predictions were compared with the actual selling prices after inverse transforming the scaled predictions.\n",
        "- R-squared accuracy was also calculated for this subset.\n",
        "- A similar prediction and evaluation were performed on a random sample of 10 rows from the dataset."
      ]
    },
    {
      "cell_type": "code",
      "execution_count": null,
      "metadata": {
        "colab": {
          "base_uri": "https://localhost:8080/"
        },
        "id": "3w-ouPAt7JxO",
        "outputId": "f759fa49-58ba-41d0-9b0b-3d986105485c"
      },
      "outputs": [],
      "source": [
        "df_head = df.sample(n=100, random_state=700).copy()\n",
        "df_x_head = df_head.drop(['selling_price'], axis=1)\n",
        "df_y_head = df_head['selling_price']\n",
        "\n",
        "df_y_head_scaled = scaler.transform(df_y_head.values.reshape(-1, 1))\n",
        "y_pred_head_scaled = rfr.predict(df_x_head)\n",
        "y_pred_head = scaler.inverse_transform(y_pred_head_scaled.reshape(-1, 1))\n",
        "r2_subset = r2_score(df_y_head_scaled, y_pred_head_scaled)\n",
        "\n",
        "print(\"\\nPredictions for the first 10 rows:\")\n",
        "for i in range(len(df_head)):\n",
        "    print(f\"Actual Price: {df_y_head.iloc[i]:,.2f}, Predicted Price: {y_pred_head[i][0]:,.2f}\")\n",
        "print(f\"\\nR-squared accuracy for the first 10 rows: {r2_subset:.4f} \")"
      ]
    },
    {
      "cell_type": "markdown",
      "metadata": {
        "id": "kMzWMpdZ9RoY"
      },
      "source": [
        "## Conclusion\n",
        "\n",
        "This project successfully addressed the challenge of predicting used car selling prices by following a structured machine learning workflow while solving potential challenges with the assistance of a Large Language Model (LLM), gemini in particular.\n",
        "\n",
        "\n",
        "1.  Four regression models—Linear Regression, Random Forest Regressor, Decision Tree Regressor, and K-Nearest Neighbors Regressor—were trained and evaluated using Mean Squared Error (MSE) and R-squared scores.\n",
        "\n",
        "2. The Random Forest and Decision Tree models demonstrated superior performance. Feature importance analysis further illuminated the most influential factors in predicting car prices.\n",
        "\n",
        "3. Finally, the trained Random Forest model was used to make predictions on sample data, providing a tangible demonstration of its predictive capability.\n",
        "\n",
        "4. Promising results were achieved by R-squared accuracy for the first 10 randomized rows: 0.9977 and 0.98 for randomized 100 rows\n",
        "."
      ]
    },
    {
      "cell_type": "code",
      "execution_count": null,
      "metadata": {
        "colab": {
          "base_uri": "https://localhost:8080/"
        },
        "id": "Gg1w6eYNGcGh",
        "outputId": "fd7e4178-e366-4be1-8f0b-7ec59bb0a73d"
      },
      "outputs": [],
      "source": [
        "# llm \n",
        "human_prompt = f\"\"\"\n",
        "Based on the provided dataset (`{df}`), the features (`{x}`), and the train/test R-squared accuracies (linear regression: {r2_score(y_test, y_pred_linear_reg)}, random forest regression: {r2_score(y_test, y_pred_rfr)}, decision tree regression: {r2_score(y_test, y_pred_dtr)}, knn regression: {r2_score(y_test, y_pred_knn)}), write a comprehensive conclusion for this car price prediction project.\n",
        "\n",
        "Your conclusion should:\n",
        "1.  Summarize the project goal and the dataset used.\n",
        "2.  Briefly touch upon the data cleaning and preprocessing steps, including the use of the LLM if relevant to the cleaning process.\n",
        "3.  Discuss the models trained and their performance based on the provided R-squared scores.\n",
        "4.  Highlight the best performing model and mention why it likely performed well (e.g., its ability to capture non-linear relationships).\n",
        "5.  Mention the feature importance analysis and its value in understanding the key drivers of car price.\n",
        "6.  Include the results from the sample predictions (first 10 rows and the 100 random rows) and interpret the R-squared scores for those samples.\n",
        "7.  Overall, provide a clear and concise summary of the project's success and key takeaways.\n",
        "\"\"\"\n",
        "print(ask_llm(human_prompt))"
      ]
    },
    {
      "cell_type": "code",
      "execution_count": null,
      "metadata": {},
      "outputs": [],
      "source": []
    }
  ],
  "metadata": {
    "colab": {
      "provenance": []
    },
    "kernelspec": {
      "display_name": "base",
      "language": "python",
      "name": "python3"
    },
    "language_info": {
      "codemirror_mode": {
        "name": "ipython",
        "version": 3
      },
      "file_extension": ".py",
      "mimetype": "text/x-python",
      "name": "python",
      "nbconvert_exporter": "python",
      "pygments_lexer": "ipython3",
      "version": "3.12.3"
    }
  },
  "nbformat": 4,
  "nbformat_minor": 0
}
